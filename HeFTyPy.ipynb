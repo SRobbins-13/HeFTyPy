{
 "cells": [
  {
   "cell_type": "markdown",
   "id": "63b04019-5fcc-4303-9483-6cc6de3c9aa5",
   "metadata": {},
   "source": [
    "# <center>HeFTyPy: Python-based Program for Visualizing HeFTy Thermal History Modeling Data</center>\n",
    "### <center>Created by Samuel Robbins and Chelsea Mackaman-Lofland</center>"
   ]
  },
  {
   "cell_type": "markdown",
   "id": "0d46ec3f-8c26-485a-970d-27757070f2a2",
   "metadata": {},
   "source": [
    "## 0. Import modules\n",
    "Run this cell to import the necessary Jupyter modules every time you open HeFTyPy."
   ]
  },
  {
   "cell_type": "code",
   "execution_count": null,
   "id": "28594f8b-ea14-45b3-8286-5e25721ed387",
   "metadata": {},
   "outputs": [],
   "source": [
    "# HeFTy Functions\n",
    "import HeFTyFuncs as hFunc\n",
    "\n",
    "import matplotlib\n",
    "%matplotlib inline\n",
    "%config InlineBackend.figure_format = 'retina'"
   ]
  },
  {
   "cell_type": "markdown",
   "id": "fb91ae57-04c3-4dc8-b256-b5288d257e07",
   "metadata": {},
   "source": [
    "## <font color = green> *Single Sample Model Workflow* </font>\n",
    "### 1. Load HeFTy Path Data"
   ]
  },
  {
   "cell_type": "code",
   "execution_count": null,
   "id": "557e84f3-e0c7-4222-84d0-6d65ad0feceb",
   "metadata": {},
   "outputs": [],
   "source": [
    "file_name = 'example_data/single_sample_models/GAN_AFT-AHe-inv.txt'\n",
    "\n",
    "# add in sample name to model definition\n",
    "sample_name = 'GAN' \n",
    "\n",
    "# Create a model holding all of the data\n",
    "model_data = hFunc.SingleSampleModel(file_name, sample_name)"
   ]
  },
  {
   "cell_type": "markdown",
   "id": "46e867e9-f637-4e9d-9d49-ca2453898d88",
   "metadata": {},
   "source": [
    "### 2. Visualize Single Sample Data\n",
    "### *Plot Distribution of Modeled Ages for each Chronometer*"
   ]
  },
  {
   "cell_type": "code",
   "execution_count": null,
   "id": "b8bc4f77-f39c-4722-bd3b-4cb2939a1f22",
   "metadata": {},
   "outputs": [],
   "source": [
    "# Specify histogram parameters\n",
    "bin_type = 'count' # 'count' or 'width'\n",
    "bins = 20 # when bin_type = 'count' specify the number of bins; when bin_type = 'width' specify the width of the bins\n",
    "\n",
    "# Specify plot settings\n",
    "share_x = False\n",
    "whatToPlot = 'both' # 'histogram', 'kde', 'both'\n",
    "\n",
    "# Specify data filtering \n",
    "pathsToPlot = 'all' # 'good', 'acc', or 'all' – best path will be shown for all options\n",
    "\n",
    "# Specify the axis bounds for each chronometer plot\n",
    "ahe_x_bounds = None # None or (lower bound, higher bound)\n",
    "zhe_x_bounds = None # None or (lower bound, higher bound)\n",
    "aft_x_bounds = None # None or (lower bound, higher bound)\n",
    "zft_x_bounds = None# None or (lower bound, higher bound)\n",
    "\n",
    "# Save Figure \n",
    "saveFig = False\n",
    "saveFolder = 'example_plots'\n",
    "savefigFileName = 'modeled_age_histogram'"
   ]
  },
  {
   "cell_type": "code",
   "execution_count": null,
   "id": "56e1503c-9e92-49f7-b765-bbac618ed139",
   "metadata": {},
   "outputs": [],
   "source": [
    "model_data.plot_modeled_age_histograms(bin_type, bins, share_x, whatToPlot, pathsToPlot, \n",
    "                                       ahe_x_bounds, zhe_x_bounds, aft_x_bounds, zft_x_bounds,\n",
    "                                       saveFig, saveFolder, savefigFileName)"
   ]
  },
  {
   "cell_type": "markdown",
   "id": "2d8be2d3-969d-4c66-a1c7-476a598fdfbe",
   "metadata": {},
   "source": [
    "### *Plot Measured vs. Modeled Ages for each Chronometer*\n",
    "Run the below sample to get a list of grains/samples in the model. "
   ]
  },
  {
   "cell_type": "code",
   "execution_count": null,
   "id": "659d2165-3704-4598-8ea1-ad430cbfdea4",
   "metadata": {},
   "outputs": [],
   "source": [
    "model_data.sample_grain_list"
   ]
  },
  {
   "cell_type": "code",
   "execution_count": null,
   "id": "6ddd7ae3-7a28-4594-b675-47c20d3a65cf",
   "metadata": {},
   "outputs": [],
   "source": [
    "# Specify measured ages for samples in model - Ages should correspond to above sample list, in order\n",
    "measured_sample_ages = [63.3,8.6] \n",
    "\n",
    "pathsToPlot = 'all' # 'good', 'acc', or 'all' – best path will be shown for all options\n",
    "\n",
    "colorPalette = 'Set1' # for more colormap options see https://matplotlib.org/stable/users/explain/colors/colormaps.html\n",
    "\n",
    "# Specify plot parameters\n",
    "ahe_x_bounds = None\n",
    "ahe_y_bounds = None\n",
    "\n",
    "zhe_x_bounds = None\n",
    "zhe_y_bounds = None\n",
    "\n",
    "aft_x_bounds = None\n",
    "aft_y_bounds = None\n",
    "\n",
    "zft_x_bounds = None\n",
    "zft_y_bounds = None\n",
    "\n",
    "show_1v1_line = 'both' # 'line', 'point', 'both' or None\n",
    "\n",
    "# Save Figure \n",
    "saveFig = False\n",
    "saveFolder = 'example_plots'\n",
    "savefigFileName = 'measured_vs_modeled ages'"
   ]
  },
  {
   "cell_type": "code",
   "execution_count": null,
   "id": "7471282f-445a-41ea-9fcf-e509323860d9",
   "metadata": {},
   "outputs": [],
   "source": [
    "model_data.plot_measured_vs_modeled(measured_sample_ages, pathsToPlot, colorPalette, \n",
    "                                    ahe_x_bounds, zhe_x_bounds, aft_x_bounds, zft_x_bounds,\n",
    "                                    ahe_y_bounds, zhe_y_bounds, aft_y_bounds, zft_y_bounds,\n",
    "                                    show_1v1_line,\n",
    "                                    saveFig, saveFolder, savefigFileName)"
   ]
  },
  {
   "cell_type": "markdown",
   "id": "2101e701-a861-4f22-9c59-72c2b6e6764b",
   "metadata": {},
   "source": [
    "### *Plot Single Sample Path Data*\n",
    "This function plots HeFTy path data for single sample models. There are options to plot the data as lines, points, or envelopes. "
   ]
  },
  {
   "cell_type": "code",
   "execution_count": null,
   "id": "9401206b-cb05-4811-aee0-9e7a344ead34",
   "metadata": {},
   "outputs": [],
   "source": [
    "## Set plot details -----------------------------\n",
    "plot_type = 'paths' # 'paths', 'points', or 'envelopes'\n",
    "y_variable = 'temp' # 'temp' or 'depth'\n",
    "\n",
    "pathsToPlot = 'all' # 'good', 'acc', or 'all' – best path will be shown for all options\n",
    "\n",
    "envelopesToPlot = 'both' #'both', 'good', or 'acc'\n",
    "\n",
    "y_lim = (600,0) # None or (higher bound, lower bound)\n",
    "x_lim = (300,0) # None or (higher bound, lower bound)\n",
    "\n",
    "fig_size = None # None or specify the figure size (width, height)\n",
    "\n",
    "x_grid_spacing = 20  # None or an int to specify x grid spacing\n",
    "y_grid_spacing = 50  # None or an int to specify y grid spacing\n",
    "grid_linewidth = 0.5  # Specify grid line width\n",
    "\n",
    "## Histogram (optional) -----------------------------\n",
    "plotAgeHistogram = True # True or False\n",
    "bin_width = 5\n",
    "histogramColorPalette = 'Dark2'\n",
    "stat = 'count' # 'count', 'frequency', 'probability', 'percent', or 'density'\n",
    "\n",
    "## Customize plot style -----------------------------\n",
    "# default HeFty style is black best path, fuchsia good paths, and green acceptable paths \n",
    "defaultHeftyStyle = True # True or False \n",
    "\n",
    "# the following colors will only apply if defaultHeftyStyle (above) is marked False\n",
    "bestPathColor = 'midnightblue'\n",
    "goodPathColor = 'cornflowerblue'\n",
    "accPathColor = 'lightsteelblue'\n",
    "\n",
    "# Constraint Box Settings\n",
    "showConstraintBoxes = True # True or False\n",
    "constraintBoxColor = 'red'\n",
    "constraintLineColor = 'black'\n",
    "constraintMarkerStyle = 's'\n",
    "\n",
    "## Save Figure -----------------------------\n",
    "saveFig = True\n",
    "saveFolder = 'example_plots'\n",
    "savefigFileName = 'time_temp_paths_w_histogram'"
   ]
  },
  {
   "cell_type": "code",
   "execution_count": null,
   "id": "a4255957-fdf9-4c7f-bd7a-08345f51b910",
   "metadata": {},
   "outputs": [],
   "source": [
    "model_data.plotSingleSamplePathData(plot_type, \n",
    "                                    y_variable, pathsToPlot, envelopesToPlot, y_lim, x_lim, fig_size,\n",
    "                                    x_grid_spacing, y_grid_spacing, grid_linewidth,\n",
    "                                    plotAgeHistogram, bin_width, histogramColorPalette, stat,\n",
    "                                    defaultHeftyStyle, bestPathColor , goodPathColor , accPathColor ,\n",
    "                                    showConstraintBoxes, constraintBoxColor , constraintLineColor , constraintMarkerStyle ,\n",
    "                                    saveFig, saveFolder, savefigFileName)"
   ]
  },
  {
   "cell_type": "markdown",
   "id": "9b20318d-528d-430c-9478-01d3ce9cbf1c",
   "metadata": {},
   "source": [
    "### *Identify and Plot Single-Sample Path Families*"
   ]
  },
  {
   "cell_type": "code",
   "execution_count": null,
   "id": "e6d9a0fc-37e6-499b-9f6a-f43d3e08aff9",
   "metadata": {},
   "outputs": [],
   "source": [
    "## Set sample and plot details -----------------------------\n",
    "plot_type = 'points' #'paths' or 'points'\n",
    "y_variable = 'temp' #'temp' or'depth\n",
    "\n",
    "y_lim = (600,0) # (higher bound, lower bound)\n",
    "x_lim = (300,0) # (higher bound, lower bound)\n",
    "\n",
    "fig_size = None # None or specify the figure size (width, height)\n",
    "\n",
    "x_grid_spacing = 20  # None or an int to specify x grid spacing\n",
    "y_grid_spacing = 50  # None or an int to specify y grid spacing\n",
    "grid_linewidth = 0.5  # Specify grid line width\n",
    "\n",
    "## Customize plot style -----------------------------\n",
    "good_match_color = 'goldenrod'\n",
    "acc_match_color = 'gold'\n",
    "\n",
    "showConstraintBoxes = True\n",
    "constraintBoxColor = 'red'\n",
    "constraintLineColor = 'black'\n",
    "constraintMarkerStyle = 's'\n",
    "\n",
    "## Specify bounds for path families -----------------------------\n",
    "# Set bounds for each constraint box to identify path families. Default is None.\n",
    "# Constraints set in the style of ('<= value', '>= value') i.e. between (higher number, lower number)\n",
    "# Function can accomodate up to 15 constraints, add additional constraints in format of c1_x/c1_y ... c15_x/x15_y\n",
    "# If you add more constraints, make sure to add them to the end of the function call as well. \n",
    "c1_x =  (30,0)\n",
    "c1_y = (100,50)\n",
    "\n",
    "c2_x = (160,120)\n",
    "c2_y = None\n",
    "\n",
    "c3_x = None \n",
    "c3_y = None\n",
    "\n",
    "c4_x = None \n",
    "c4_y = None\n",
    "\n",
    "## Save Figure -----------------------------\n",
    "saveFig = True\n",
    "saveFolder = 'example_plots'\n",
    "savefigFileName = 'path_families'"
   ]
  },
  {
   "cell_type": "code",
   "execution_count": null,
   "id": "f1aaa2ad-6302-4552-9086-4f6f6d67d1e2",
   "metadata": {},
   "outputs": [],
   "source": [
    "key_matched_paths = model_data.identifyPathFamilies(plot_type,\n",
    "                                                  y_variable, y_lim, x_lim , fig_size,\n",
    "                                                  x_grid_spacing, y_grid_spacing, grid_linewidth,\n",
    "                                                  good_match_color, acc_match_color, \n",
    "                                                  showConstraintBoxes, \n",
    "                                                  constraintBoxColor, constraintLineColor, constraintMarkerStyle,\n",
    "                                                  saveFig, saveFolder, savefigFileName,\n",
    "                                                  c1_x, c1_y,c2_x, c2_y,c3_x, c3_y, c4_x, c4_y)"
   ]
  },
  {
   "cell_type": "code",
   "execution_count": null,
   "id": "518bcc7c-6367-43a7-9b24-9215b48973a5",
   "metadata": {},
   "outputs": [],
   "source": [
    "key_matched_paths"
   ]
  },
  {
   "cell_type": "code",
   "execution_count": null,
   "id": "e2a6f046-1298-4b67-a5c6-41cdc64a8fda",
   "metadata": {},
   "outputs": [],
   "source": []
  }
 ],
 "metadata": {
  "kernelspec": {
   "display_name": "Python 3 (ipykernel)",
   "language": "python",
   "name": "python3"
  },
  "language_info": {
   "codemirror_mode": {
    "name": "ipython",
    "version": 3
   },
   "file_extension": ".py",
   "mimetype": "text/x-python",
   "name": "python",
   "nbconvert_exporter": "python",
   "pygments_lexer": "ipython3",
   "version": "3.11.7"
  }
 },
 "nbformat": 4,
 "nbformat_minor": 5
}
