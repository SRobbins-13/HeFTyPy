{
 "cells": [
  {
   "cell_type": "markdown",
   "id": "63b04019-5fcc-4303-9483-6cc6de3c9aa5",
   "metadata": {},
   "source": [
    "# <center>HeFTyPy: Python-based Program for Visualizing HeFTy Thermal History Modeling Data</center>\n",
    "### <center>Created by Samuel Robbins and Chelsea Mackaman-Lofland</center>"
   ]
  },
  {
   "cell_type": "markdown",
   "id": "0d46ec3f-8c26-485a-970d-27757070f2a2",
   "metadata": {},
   "source": [
    "## 0. Import modules\n",
    "Run this cell to import the necessary Jupyter modules every time you open HeFTyPy."
   ]
  },
  {
   "cell_type": "code",
   "execution_count": null,
   "id": "28594f8b-ea14-45b3-8286-5e25721ed387",
   "metadata": {},
   "outputs": [],
   "source": [
    "# HeFTy Functions\n",
    "import HeFTyFuncs as hFunc\n",
    "\n",
    "import matplotlib\n",
    "%matplotlib inline\n",
    "%config InlineBackend.figure_format = 'retina'"
   ]
  },
  {
   "cell_type": "markdown",
   "id": "fb91ae57-04c3-4dc8-b256-b5288d257e07",
   "metadata": {},
   "source": [
    "## <font color = green> *Single Sample Model Workflow* </font>\n",
    "### 1. Load HeFTy Path Data"
   ]
  },
  {
   "cell_type": "code",
   "execution_count": null,
   "id": "557e84f3-e0c7-4222-84d0-6d65ad0feceb",
   "metadata": {},
   "outputs": [],
   "source": [
    "file_name = 'example_data/single_sample_models/GAN_AFT-AHe-inv.txt'\n",
    "\n",
    "# add in sample name to model definition\n",
    "sample_name = 'GAN' \n",
    "\n",
    "# Create a model holding all of the data\n",
    "model_data = hFunc.SingleSampleModel(file_name, sample_name)"
   ]
  },
  {
   "cell_type": "markdown",
   "id": "46e867e9-f637-4e9d-9d49-ca2453898d88",
   "metadata": {},
   "source": [
    "### 2. Visualize Single Sample Data\n",
    "### *Plot Distribution of Modeled Ages for each Chronometer*"
   ]
  },
  {
   "cell_type": "code",
   "execution_count": null,
   "id": "b8bc4f77-f39c-4722-bd3b-4cb2939a1f22",
   "metadata": {},
   "outputs": [],
   "source": [
    "# Specify histogram parameters\n",
    "bin_type = 'count' # 'count' or 'width'\n",
    "bins = 20 # when bin_type = 'count' specify the number of bins; when bin_type = 'width' specify the width of the bins\n",
    "\n",
    "# Specify plot settings\n",
    "share_x = False # True or False\n",
    "whatToPlot = 'both' # 'histogram', 'kde', 'both'\n",
    "\n",
    "# Specify data filtering \n",
    "pathsToPlot = 'all' # 'good', 'acc', or 'all' – best path will be shown for all options\n",
    "\n",
    "# Specify the axis bounds for each chronometer plot\n",
    "ahe_x_bounds = None # None or (lower bound, higher bound)\n",
    "zhe_x_bounds = None # None or (lower bound, higher bound)\n",
    "aft_x_bounds = None # None or (lower bound, higher bound)\n",
    "zft_x_bounds = None# None or (lower bound, higher bound)\n",
    "\n",
    "# Save Figure \n",
    "saveFig = False\n",
    "saveFolder = 'example_plots'\n",
    "savefigFileName = 'modeled_age_histogram'"
   ]
  },
  {
   "cell_type": "code",
   "execution_count": null,
   "id": "56e1503c-9e92-49f7-b765-bbac618ed139",
   "metadata": {},
   "outputs": [],
   "source": [
    "model_data.plot_modeled_age_histograms(bin_type, bins, share_x, whatToPlot, pathsToPlot, \n",
    "                                       ahe_x_bounds, zhe_x_bounds, aft_x_bounds, zft_x_bounds,\n",
    "                                       saveFig, saveFolder, savefigFileName)"
   ]
  },
  {
   "cell_type": "markdown",
   "id": "2d8be2d3-969d-4c66-a1c7-476a598fdfbe",
   "metadata": {},
   "source": [
    "### *Plot Measured vs. Modeled Ages for each Chronometer*\n",
    "Run the below sample to get a list of grains/samples in the model. "
   ]
  },
  {
   "cell_type": "code",
   "execution_count": null,
   "id": "659d2165-3704-4598-8ea1-ad430cbfdea4",
   "metadata": {},
   "outputs": [],
   "source": [
    "model_data.sample_grain_list"
   ]
  },
  {
   "cell_type": "code",
   "execution_count": null,
   "id": "6ddd7ae3-7a28-4594-b675-47c20d3a65cf",
   "metadata": {},
   "outputs": [],
   "source": [
    "# Specify measured ages for samples in model - Ages should correspond to above sample list, in order\n",
    "measured_sample_ages = [63.3,8.6] \n",
    "\n",
    "pathsToPlot = 'all' # 'good', 'acc', or 'all' – best path will be shown for all options\n",
    "\n",
    "colorPalette = 'Set1' # for more colormap options see https://matplotlib.org/stable/users/explain/colors/colormaps.html\n",
    "\n",
    "# Specify plot parameters\n",
    "ahe_x_bounds = None\n",
    "ahe_y_bounds = None\n",
    "\n",
    "zhe_x_bounds = None\n",
    "zhe_y_bounds = None\n",
    "\n",
    "aft_x_bounds = None\n",
    "aft_y_bounds = None\n",
    "\n",
    "zft_x_bounds = None\n",
    "zft_y_bounds = None\n",
    "\n",
    "show_1v1_line = 'both' # 'line', 'point', 'both' or None\n",
    "\n",
    "# Save Figure \n",
    "saveFig = False\n",
    "saveFolder = 'example_plots'\n",
    "savefigFileName = 'measured_vs_modeled ages'"
   ]
  },
  {
   "cell_type": "code",
   "execution_count": null,
   "id": "7471282f-445a-41ea-9fcf-e509323860d9",
   "metadata": {},
   "outputs": [],
   "source": [
    "model_data.plot_measured_vs_modeled(measured_sample_ages, pathsToPlot, colorPalette, \n",
    "                                    ahe_x_bounds, zhe_x_bounds, aft_x_bounds, zft_x_bounds,\n",
    "                                    ahe_y_bounds, zhe_y_bounds, aft_y_bounds, zft_y_bounds,\n",
    "                                    show_1v1_line,\n",
    "                                    saveFig, saveFolder, savefigFileName)"
   ]
  },
  {
   "cell_type": "markdown",
   "id": "2101e701-a861-4f22-9c59-72c2b6e6764b",
   "metadata": {},
   "source": [
    "### *Plot Single Sample Path Data*\n",
    "This function plots HeFTy path data for single sample models. There are options to plot the data as lines, points, or envelopes. "
   ]
  },
  {
   "cell_type": "code",
   "execution_count": null,
   "id": "9401206b-cb05-4811-aee0-9e7a344ead34",
   "metadata": {},
   "outputs": [],
   "source": [
    "## Set plot details -----------------------------\n",
    "plot_type = 'points' # 'paths', 'points', or 'envelopes'\n",
    "y_variable = 'temp' # 'temp' or 'depth'\n",
    "\n",
    "pathsToPlot = 'all' # 'good', 'acc', or 'all' – best path will be shown for all options\n",
    "\n",
    "envelopesToPlot = 'both' #'both', 'good', or 'acc'\n",
    "\n",
    "y_lim = (600,0) # None or (higher bound, lower bound)\n",
    "x_lim = (280,0) # None or (higher bound, lower bound)\n",
    "\n",
    "fig_size = None # None or specify the figure size (width, height)\n",
    "\n",
    "x_grid_spacing = 20  # None or an int to specify x grid spacing\n",
    "y_grid_spacing = 50  # None or an int to specify y grid spacing\n",
    "grid_linewidth = 0.5  # Specify grid line width\n",
    "\n",
    "## Histogram (optional) -----------------------------\n",
    "plotAgeHistogram = True # True or False\n",
    "bin_width = 5\n",
    "histogramColorPalette = 'Dark2'\n",
    "stat = 'count' # 'count', 'frequency', 'probability', 'percent', or 'density'\n",
    "\n",
    "## Customize plot style -----------------------------\n",
    "# default HeFty style is black best path, fuchsia good paths, and green acceptable paths \n",
    "defaultHeftyStyle = True # True or False \n",
    "\n",
    "# the following colors will only apply if defaultHeftyStyle (above) is marked False\n",
    "bestPathColor = 'midnightblue'\n",
    "goodPathColor = 'cornflowerblue'\n",
    "accPathColor = 'lightsteelblue'\n",
    "\n",
    "# Constraint Box Settings\n",
    "showConstraintBoxes = True # True or False\n",
    "constraintBoxColor = 'red'\n",
    "constraintLineColor = 'black'\n",
    "constraintMarkerStyle = 's'\n",
    "\n",
    "## Save Figure -----------------------------\n",
    "saveFig = False\n",
    "saveFolder = 'example_plots'\n",
    "savefigFileName = 'time_temp_paths_w_histogram'"
   ]
  },
  {
   "cell_type": "code",
   "execution_count": null,
   "id": "a4255957-fdf9-4c7f-bd7a-08345f51b910",
   "metadata": {},
   "outputs": [],
   "source": [
    "model_data.plotSingleSamplePathData(plot_type, \n",
    "                                    y_variable, pathsToPlot, envelopesToPlot, y_lim, x_lim, fig_size,\n",
    "                                    x_grid_spacing, y_grid_spacing, grid_linewidth,\n",
    "                                    plotAgeHistogram, bin_width, histogramColorPalette, stat,\n",
    "                                    defaultHeftyStyle, bestPathColor , goodPathColor , accPathColor ,\n",
    "                                    showConstraintBoxes, constraintBoxColor , constraintLineColor , constraintMarkerStyle ,\n",
    "                                    saveFig, saveFolder, savefigFileName)"
   ]
  },
  {
   "cell_type": "markdown",
   "id": "9b20318d-528d-430c-9478-01d3ce9cbf1c",
   "metadata": {},
   "source": [
    "### *Identify and Plot Single-Sample Path Families*"
   ]
  },
  {
   "cell_type": "code",
   "execution_count": null,
   "id": "e6d9a0fc-37e6-499b-9f6a-f43d3e08aff9",
   "metadata": {},
   "outputs": [],
   "source": [
    "## Set sample and plot details -----------------------------\n",
    "plot_type = 'points' # 'paths' or 'points'\n",
    "y_variable = 'temp' # 'temp' or'depth\n",
    "\n",
    "y_lim = (600,0) # (higher bound, lower bound)\n",
    "x_lim = (300,0) # (higher bound, lower bound)\n",
    "\n",
    "fig_size = None # None or specify the figure size (width, height)\n",
    "\n",
    "x_grid_spacing = 20  # None or an int to specify x grid spacing\n",
    "y_grid_spacing = 50  # None or an int to specify y grid spacing\n",
    "grid_linewidth = 0.5  # Specify grid line width\n",
    "\n",
    "## Customize plot style -----------------------------\n",
    "good_match_color = 'goldenrod'\n",
    "acc_match_color = 'gold'\n",
    "\n",
    "showConstraintBoxes = True\n",
    "constraintBoxColor = 'red'\n",
    "constraintLineColor = 'black'\n",
    "constraintMarkerStyle = 's'\n",
    "\n",
    "## Specify bounds for path families -----------------------------\n",
    "# Set bounds for each constraint box to identify path families. Default is None.\n",
    "# Constraints set in the style of ('<= value', '>= value') i.e. between (higher number, lower number)\n",
    "# Function can accomodate up to 15 constraints, add additional constraints in format of c1_x/c1_y ... c15_x/x15_y\n",
    "# If you add more constraints, make sure to add them to the end of the function call as well. \n",
    "c1_x =  (30,0)\n",
    "c1_y = (100,50)\n",
    "\n",
    "c2_x = (160,120)\n",
    "c2_y = None\n",
    "\n",
    "c3_x = None \n",
    "c3_y = None\n",
    "\n",
    "c4_x = None \n",
    "c4_y = None\n",
    "\n",
    "## Save Figure -----------------------------\n",
    "saveFig = False\n",
    "saveFolder = 'example_plots'\n",
    "savefigFileName = 'path_families'"
   ]
  },
  {
   "cell_type": "code",
   "execution_count": null,
   "id": "f1aaa2ad-6302-4552-9086-4f6f6d67d1e2",
   "metadata": {},
   "outputs": [],
   "source": [
    "key_matched_paths = model_data.identifyPathFamilies(plot_type,\n",
    "                                                  y_variable, y_lim, x_lim , fig_size,\n",
    "                                                  x_grid_spacing, y_grid_spacing, grid_linewidth,\n",
    "                                                  good_match_color, acc_match_color, \n",
    "                                                  showConstraintBoxes, \n",
    "                                                  constraintBoxColor, constraintLineColor, constraintMarkerStyle,\n",
    "                                                  saveFig, saveFolder, savefigFileName,\n",
    "                                                  c1_x, c1_y,c2_x, c2_y,c3_x, c3_y, c4_x, c4_y)"
   ]
  },
  {
   "cell_type": "code",
   "execution_count": null,
   "id": "518bcc7c-6367-43a7-9b24-9215b48973a5",
   "metadata": {},
   "outputs": [],
   "source": [
    "key_matched_paths"
   ]
  },
  {
   "cell_type": "markdown",
   "id": "6659aab4-f4a6-4a53-bad2-5a097721dde8",
   "metadata": {},
   "source": [
    "## <font color = purple> *Multi-Sample Model Workflow* </font>\n",
    "### 1. Load HeFTy Multi-Sample Model Data"
   ]
  },
  {
   "cell_type": "code",
   "execution_count": null,
   "id": "095f53b7-4b80-41fd-9732-d3b65bddf3c2",
   "metadata": {},
   "outputs": [],
   "source": [
    "folder_path = 'example_data/multi_sample_models/AN_geothermalgradient_15C-km'\n",
    "\n",
    "# Create a model holding all of the data\n",
    "multisample_model = hFunc.MultiSampleModel(folder_path)"
   ]
  },
  {
   "cell_type": "markdown",
   "id": "d1d83f43-570a-4fd6-ab62-362b23cc4a58",
   "metadata": {},
   "source": [
    "Run the below cell to check the samples and data types within the larger model."
   ]
  },
  {
   "cell_type": "code",
   "execution_count": null,
   "id": "bc13641d-9cfa-43e5-93de-7a0e09012183",
   "metadata": {},
   "outputs": [],
   "source": [
    "multisample_model.list_samples_and_types()"
   ]
  },
  {
   "cell_type": "markdown",
   "id": "3edde244-03b7-4da8-a7b9-8124c1a48f01",
   "metadata": {},
   "source": [
    "### 2. Visualize Multi-Sample Model Data\n",
    "### *Plot Distribution of Modeled Ages for each Sample within the Multi-Sample Model*"
   ]
  },
  {
   "cell_type": "code",
   "execution_count": null,
   "id": "e8db6c54-2908-47c8-ab34-7171c367e03d",
   "metadata": {},
   "outputs": [],
   "source": [
    "# Specify sample and variable from the multi-sample model\n",
    "sample = 'AN05'\n",
    "variable = 'temp' # 'temp' or 'depth' ; 'depth' is ONLY for the master sample\n",
    "\n",
    "# Specify histogram parameters\n",
    "bin_type = 'count' # 'count' or 'width'\n",
    "bins = 20 # when bin_type = 'count' specify the number of bins; when bin_type = 'width' specify the width of the bins\n",
    "\n",
    "share_x = False\n",
    "whatToPlot = 'both' # 'histogram', 'kde', 'both'\n",
    "\n",
    "# Specify data filtering \n",
    "pathsToPlot = 'all' # 'good', 'acc', or 'all' – best path will be shown for all options\n",
    "\n",
    "# Specify the axis bounds for each chronometer plot\n",
    "ahe_x_bounds = None # None or (lower bound, higher bound)\n",
    "zhe_x_bounds = None # None or (lower bound, higher bound)\n",
    "aft_x_bounds = None # None or (lower bound, higher bound)\n",
    "zft_x_bounds = None # None or (lower bound, higher bound)\n",
    "\n",
    "# Save Figure \n",
    "saveFig = False\n",
    "saveFolder = 'Plots_testing'\n",
    "savefigFileName = 'AN03_temp_modeled_ages_histogram'"
   ]
  },
  {
   "cell_type": "code",
   "execution_count": null,
   "id": "64ed7c3b-55e2-492a-a92a-896c9e2eadfa",
   "metadata": {},
   "outputs": [],
   "source": [
    "multisample_model.plotMultiSampleModeledAgeHistogram(sample,variable, bin_type, bins, share_x, whatToPlot, pathsToPlot, \n",
    "                                                     ahe_x_bounds, zhe_x_bounds, aft_x_bounds, zft_x_bounds,\n",
    "                                                     saveFig, saveFolder, savefigFileName)"
   ]
  },
  {
   "cell_type": "markdown",
   "id": "92a75bb2-6109-4a15-b0ba-afc29243b014",
   "metadata": {},
   "source": [
    "### *Plot Measured vs. Modeled Ages for each Sample within the Multi-Sample Model*"
   ]
  },
  {
   "cell_type": "markdown",
   "id": "1bf7cc53-7609-476c-9062-26a7a96b4ccb",
   "metadata": {},
   "source": [
    "Run the below cell to identify the grain data linked to each sample within the multi-sample model. "
   ]
  },
  {
   "cell_type": "code",
   "execution_count": null,
   "id": "3c9a05a1-3d32-4088-a026-781b6abb2495",
   "metadata": {},
   "outputs": [],
   "source": [
    "multisample_model.list_sample_grains()"
   ]
  },
  {
   "cell_type": "code",
   "execution_count": null,
   "id": "21c3d78d-a187-4001-83b3-e9fadc650af2",
   "metadata": {},
   "outputs": [],
   "source": [
    "# Specify sample and variable from the multi-sample model\n",
    "sample = 'AN03'\n",
    "variable = 'temp' # 'temp' or 'depth' ; 'depth' is ONLY for the master sample\n",
    "\n",
    "# Specify measured ages for samples in model - Ages should correspond to above sample list, in order\n",
    "measured_sample_ages = [12.1] \n",
    "\n",
    "pathsToPlot = 'all' # 'good', 'acc', or 'all' – best path will be shown for all options\n",
    "\n",
    "colorPalette = 'Set1' # for more colormap options see https://matplotlib.org/stable/users/explain/colors/colormaps.html\n",
    "\n",
    "# Specify plot parameters\n",
    "ahe_x_bounds = (10,20)\n",
    "ahe_y_bounds = (0,30)\n",
    "\n",
    "zhe_x_bounds = None\n",
    "zhe_y_bounds = None\n",
    "\n",
    "aft_x_bounds = None\n",
    "aft_y_bounds = None\n",
    "\n",
    "zft_x_bounds = None\n",
    "zft_y_bounds = None\n",
    "\n",
    "show_1v1_line = 'both' # 'line', 'point', 'both' or None\n",
    "\n",
    "# Save Figure \n",
    "saveFig = False\n",
    "saveFolder = 'Plots_testing'\n",
    "savefigFileName = 'AN03_measured_vs_modeled ages'"
   ]
  },
  {
   "cell_type": "code",
   "execution_count": null,
   "id": "e25b08e5-513b-4fc3-8296-1afc8312ce29",
   "metadata": {},
   "outputs": [],
   "source": [
    "multisample_model.plotMultiSampleModeled_v_Measured(sample, variable, measured_sample_ages, pathsToPlot, colorPalette,\n",
    "                                                    ahe_x_bounds, zhe_x_bounds, aft_x_bounds, zft_x_bounds,\n",
    "                                                    ahe_y_bounds, zhe_y_bounds, aft_y_bounds, zft_y_bounds,\n",
    "                                                    show_1v1_line,\n",
    "                                                    saveFig, saveFolder, savefigFileName)"
   ]
  },
  {
   "cell_type": "markdown",
   "id": "249b52c2-235b-4bb9-92d0-be7ecb0f41c3",
   "metadata": {},
   "source": [
    "### *Plot Multi-Sample Path Data*\n",
    "This function plots HeFTy path data for multi sample models. There are options to plot the data as lines, points, or envelopes. "
   ]
  },
  {
   "cell_type": "code",
   "execution_count": null,
   "id": "4621734e-687d-433a-a0cc-222add8e4870",
   "metadata": {},
   "outputs": [],
   "source": [
    "## Set plot details -----------------------------\n",
    "sample = 'AN03'\n",
    "plot_type = 'points' # 'paths', 'points', or 'envelopes'\n",
    "y_variable = 'depth' # 'temp' or 'depth' ; 'depth' is ONLY for the master sample\n",
    "\n",
    "pathsToPlot = 'all' # 'good', 'acc', or 'all' – best path will be shown for all options\n",
    "\n",
    "envelopesToPlot = 'both' #'both', 'good', or 'acc'\n",
    "\n",
    "plotOtherBestFitPaths = True # True or False ; only for time-temp data\n",
    "\n",
    "y_lim = None # None or (higher bound, lower bound)\n",
    "x_lim = None # None or (higher bound, lower bound)\n",
    "\n",
    "fig_size = None # None or specify the figure size (width, height)\n",
    "\n",
    "x_grid_spacing = None  # None or an int to specify x grid spacing\n",
    "y_grid_spacing = None  # None or an int to specify y grid spacing\n",
    "grid_linewidth = 0.5  # Specify grid line width\n",
    "\n",
    "## Histogram (optional) -----------------------------\n",
    "plotAgeHistogram = True # True or False\n",
    "bin_width = 5\n",
    "histogramColorPalette = 'Dark2'\n",
    "stat = 'count' # 'count', 'frequency', 'probability', 'percent', or 'density'\n",
    "\n",
    "## Customize plot style -----------------------------\n",
    "# default HeFty style is black best path, fuchsia good paths, and green acceptable paths \n",
    "defaultHeftyStyle = True # True or False \n",
    "\n",
    "# the following colors will only apply if defaultHeftyStyle (above) is marked False\n",
    "bestPathColor = 'midnightblue'\n",
    "goodPathColor = 'cornflowerblue'\n",
    "accPathColor = 'lightsteelblue'\n",
    "otherBestPathColor = 'dodgerblue'\n",
    "\n",
    "# Constraint Box Settings\n",
    "showConstraintBoxes = True # True or False\n",
    "constraintBoxColor = 'red'\n",
    "constraintLineColor = 'black'\n",
    "constraintMarkerStyle = 's'\n",
    "\n",
    "## Save Figure -----------------------------\n",
    "saveFig = True\n",
    "saveFolder = 'example_plots'\n",
    "savefigFileName = 'multisample_time_depth_points_w_histogram'"
   ]
  },
  {
   "cell_type": "code",
   "execution_count": null,
   "id": "10b45b62-2218-4658-8a9a-46308befddc1",
   "metadata": {},
   "outputs": [],
   "source": [
    "multisample_model.plotMultiSamplePathData(sample, plot_type, \n",
    "                                    y_variable, pathsToPlot, envelopesToPlot, plotOtherBestFitPaths, y_lim, x_lim, fig_size,\n",
    "                                    x_grid_spacing, y_grid_spacing, grid_linewidth,\n",
    "                                    plotAgeHistogram, bin_width, histogramColorPalette, stat,\n",
    "                                    defaultHeftyStyle, bestPathColor , goodPathColor , accPathColor , otherBestPathColor ,\n",
    "                                    showConstraintBoxes, constraintBoxColor , constraintLineColor , constraintMarkerStyle ,\n",
    "                                    saveFig, saveFolder, savefigFileName)"
   ]
  },
  {
   "cell_type": "markdown",
   "id": "b1ce8e32-30a5-4a2f-bb87-10007f4e83da",
   "metadata": {},
   "source": [
    "### *Identify and Plot Multi-Sample Path Families*"
   ]
  },
  {
   "cell_type": "markdown",
   "id": "905ab58d-cd78-4459-9ccd-c51ea5e4af2b",
   "metadata": {},
   "source": [
    "The workflow for identifying path families within multi-sample models consists of two main steps:\n",
    "\n",
    "(1) Identify path families in the **master sample** by applying constraints in **_time-depth space_**.\n",
    "\n",
    "(2) Visualize those path families across all samples in **_time-temperature space_**.\n",
    "\n",
    "#### Important Notes\n",
    "\n",
    "- Only the master sample can be visualized in time-depth space.\n",
    "- Only the master sample in time-depth space can use the **'points'** plot type.\n",
    "- Constraint boxes are only displayed for the master sample in time-depth space."
   ]
  },
  {
   "cell_type": "code",
   "execution_count": null,
   "id": "8308fc9d-6874-4fed-8303-dc9a6a1861e3",
   "metadata": {},
   "outputs": [],
   "source": [
    "## Set sample and plot details -----------------------------\n",
    "sample = 'AN03'\n",
    "plot_type = 'paths' # 'paths' or 'points'\n",
    "y_variable = 'depth' # 'temp' or'depth\n",
    "\n",
    "y_lim = None # (higher bound, lower bound)\n",
    "x_lim = (300,0) # (higher bound, lower bound)\n",
    "\n",
    "fig_size = None # None or specify the figure size (width, height)\n",
    "\n",
    "x_grid_spacing = None  # None or an int to specify x grid spacing\n",
    "y_grid_spacing = None  # None or an int to specify y grid spacing\n",
    "grid_linewidth = 0.5  # Specify grid line width\n",
    "\n",
    "## Customize plot style -----------------------------\n",
    "good_match_color = 'steelblue'\n",
    "acc_match_color = 'lightskyblue'\n",
    "\n",
    "otherBestPathColor = 'dodgerblue'\n",
    "showOtherBestPaths = True\n",
    "\n",
    "showConstraintBoxes = True\n",
    "constraintBoxColor = 'red'\n",
    "constraintLineColor = 'black'\n",
    "constraintMarkerStyle = 's'\n",
    "\n",
    "## Specify bounds for path families -----------------------------\n",
    "# Set bounds for each constraint box to identify path families. Default is None.\n",
    "# Constraints set in the style of ('<= value', '>= value') i.e. between (higher number, lower number)\n",
    "# Function can accomodate up to 15 constraints, add additional constraints in format of c1_x/c1_y ... c15_x/x15_y\n",
    "# If you add more constraints, make sure to add them to the end of the function call as well. \n",
    "c1_x =  (50,0)\n",
    "c1_y = (5,3)\n",
    "\n",
    "c2_x = (125,100)\n",
    "c2_y = (10,0) \n",
    "\n",
    "c3_x = None\n",
    "c3_y = None\n",
    "\n",
    "c4_x = None \n",
    "c4_y = None\n",
    "\n",
    "## Save Figure -----------------------------\n",
    "saveFig = True\n",
    "saveFolder = 'example_plots'\n",
    "savefigFileName = 'multisample_path_families'"
   ]
  },
  {
   "cell_type": "code",
   "execution_count": null,
   "id": "70af733c-fc65-4a06-a50e-63d9e4353a84",
   "metadata": {},
   "outputs": [],
   "source": [
    "key_matched_paths = multisample_model.identifyMultiSamplePathFamilies(sample, plot_type,\n",
    "                                                  y_variable, y_lim, x_lim , fig_size,\n",
    "                                                  x_grid_spacing, y_grid_spacing, grid_linewidth,\n",
    "                                                  good_match_color, acc_match_color, otherBestPathColor, \n",
    "                                                  showOtherBestPaths, showConstraintBoxes, \n",
    "                                                  constraintBoxColor, constraintLineColor, constraintMarkerStyle,\n",
    "                                                  saveFig, saveFolder, savefigFileName,\n",
    "                                                  c1_x, c1_y,c2_x, c2_y,c3_x, c3_y, c4_x, c4_y)"
   ]
  },
  {
   "cell_type": "code",
   "execution_count": null,
   "id": "5b30d3f4-7ff2-42bc-bc8e-ada8345bca21",
   "metadata": {},
   "outputs": [],
   "source": [
    "key_matched_paths"
   ]
  },
  {
   "cell_type": "code",
   "execution_count": null,
   "id": "05d9d1a1-0e5f-41d3-bfb7-0c2c66484634",
   "metadata": {},
   "outputs": [],
   "source": []
  },
  {
   "cell_type": "code",
   "execution_count": null,
   "id": "162699ec-eebf-420e-ba4c-67086671ff02",
   "metadata": {},
   "outputs": [],
   "source": []
  },
  {
   "cell_type": "code",
   "execution_count": null,
   "id": "37b67a22-19ec-4212-bb4c-36eb1da8d359",
   "metadata": {},
   "outputs": [],
   "source": []
  },
  {
   "cell_type": "code",
   "execution_count": null,
   "id": "1c64da49-acdd-4c92-891c-5e69b0838e0c",
   "metadata": {},
   "outputs": [],
   "source": []
  },
  {
   "cell_type": "code",
   "execution_count": null,
   "id": "09edc40f-ea2d-45c5-9c43-a23d5ac63404",
   "metadata": {},
   "outputs": [],
   "source": []
  },
  {
   "cell_type": "code",
   "execution_count": null,
   "id": "2862a059-6752-4c4b-8a2e-b07a0d24cfd4",
   "metadata": {},
   "outputs": [],
   "source": []
  },
  {
   "cell_type": "code",
   "execution_count": null,
   "id": "fc7e9f8c-4e2e-4d8a-b060-4010f6a01c9b",
   "metadata": {},
   "outputs": [],
   "source": []
  }
 ],
 "metadata": {
  "kernelspec": {
   "display_name": "Python 3 (ipykernel)",
   "language": "python",
   "name": "python3"
  },
  "language_info": {
   "codemirror_mode": {
    "name": "ipython",
    "version": 3
   },
   "file_extension": ".py",
   "mimetype": "text/x-python",
   "name": "python",
   "nbconvert_exporter": "python",
   "pygments_lexer": "ipython3",
   "version": "3.11.7"
  }
 },
 "nbformat": 4,
 "nbformat_minor": 5
}
