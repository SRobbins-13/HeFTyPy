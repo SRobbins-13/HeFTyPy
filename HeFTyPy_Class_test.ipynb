{
 "cells": [
  {
   "cell_type": "markdown",
   "id": "31105a7a-f43f-428f-a502-f21f9fe69320",
   "metadata": {
    "jp-MarkdownHeadingCollapsed": true
   },
   "source": [
    "## fuckin around"
   ]
  },
  {
   "cell_type": "code",
   "execution_count": null,
   "id": "62a9573f-6a1c-429a-a3c4-ad91fda6c667",
   "metadata": {},
   "outputs": [],
   "source": [
    "import numpy as np\n",
    "import seaborn as sns\n",
    "import matplotlib\n",
    "import matplotlib.pyplot as plt\n",
    "from matplotlib import cm, colors\n",
    "from matplotlib.colors import LinearSegmentedColormap\n",
    "from matplotlib.patches import Rectangle\n",
    "\n",
    "from collections import defaultdict\n",
    "\n",
    "# Path Libraries\n",
    "import pathlib\n",
    "from pathlib import Path\n",
    "\n",
    "from typing import Tuple, Dict, List, Union"
   ]
  },
  {
   "cell_type": "code",
   "execution_count": null,
   "id": "a8ce273c-d0a4-40cc-a122-4ef6b4cd3b67",
   "metadata": {},
   "outputs": [],
   "source": [
    "#file_name = 'example_data/CHL15-02B-AHe-ZHe-inv.txt'\n",
    "file_name = 'example_data/single_sample/H5-inv.txt'\n",
    "encoding = 'latin-1'"
   ]
  },
  {
   "cell_type": "code",
   "execution_count": null,
   "id": "db258408-e605-4b1f-892a-f1598430bc73",
   "metadata": {
    "scrolled": true
   },
   "outputs": [],
   "source": [
    "# Read the file contents\n",
    "with open(file_name, encoding = encoding) as f:\n",
    "    txt_data_all = f.readlines()\n",
    "\n",
    "first_word = [r.split()[0] for r in txt_data_all]\n",
    "\n",
    "first_word"
   ]
  },
  {
   "cell_type": "code",
   "execution_count": null,
   "id": "a6636123-6542-4120-8f8e-818783a40711",
   "metadata": {},
   "outputs": [],
   "source": [
    "# Locate key indices for different sections in the file\n",
    "constraintsIndex = first_word.index('Number')\n",
    "envelopesIndex = first_word.index('Envelopes')\n",
    "meanPathIndex = first_word.index('Weighted')\n",
    "head_length = first_word.index('Fit')\n",
    "\n",
    "num_constraints = (envelopesIndex-1) - (constraintsIndex+1)\n",
    "\n",
    "# Extract constraint data\n",
    "constraints = np.genfromtxt(file_name,\n",
    "                        delimiter = '\\t',\n",
    "                        skip_header = 2,\n",
    "                        max_rows = num_constraints,\n",
    "                        usecols = (1,2,3,4)\n",
    "                    )\n",
    "\n",
    "print(constraintsIndex)\n",
    "print(envelopesIndex)\n",
    "print(meanPathIndex)\n",
    "print(head_length)\n",
    "print(num_constraints)"
   ]
  },
  {
   "cell_type": "code",
   "execution_count": null,
   "id": "a8eb1b25-b8af-448b-ac99-67239eef2ee1",
   "metadata": {},
   "outputs": [],
   "source": [
    "constraints"
   ]
  },
  {
   "cell_type": "code",
   "execution_count": null,
   "id": "7c7b55fc-b0a2-4cd7-9f4b-9552d5f6d524",
   "metadata": {},
   "outputs": [],
   "source": [
    "# Process envelope data\n",
    "envelope_dict = {}\n",
    "num_envelopes = (first_word.index('Summaries')-1) - envelopesIndex\n",
    "\n",
    "print(num_envelopes)\n"
   ]
  },
  {
   "cell_type": "code",
   "execution_count": null,
   "id": "22afe2e3-bcbe-41e3-90db-3d1184310dee",
   "metadata": {},
   "outputs": [],
   "source": [
    "for i in range(1,num_envelopes+1):\n",
    "    print(i)"
   ]
  },
  {
   "cell_type": "code",
   "execution_count": null,
   "id": "06f6cbb5-8317-4a0b-b280-d0c133491e89",
   "metadata": {},
   "outputs": [],
   "source": [
    "for i in range(1,num_envelopes+1):\n",
    "    envelope_data = txt_data_all[envelopesIndex+i].split('\\t')\n",
    "    envelope_data_clean = [entry.strip() for entry in envelope_data if entry.strip()]  # Remove empty and whitespace-only entries\n",
    "    envelope_label = envelope_data_clean[0]\n",
    "    \n",
    "    # Only process non-empty values after the label\n",
    "    envelope_dict[envelope_label] = [float(value) for value in envelope_data_clean[1:] if value]\n",
    "    print(envelope_label)\n",
    "\n",
    "# if num_envelopes == 3 and 'Acc' in txt_data_all[envelopesIndex+i].split('\\t')[0]:\n",
    "#     print('Note that this sample only has acceptable paths.')"
   ]
  },
  {
   "cell_type": "code",
   "execution_count": null,
   "id": "e5a7b694-571b-4f9b-a4da-50ce82a91493",
   "metadata": {
    "scrolled": true
   },
   "outputs": [],
   "source": [
    "envelope_dict"
   ]
  },
  {
   "cell_type": "code",
   "execution_count": null,
   "id": "1b71db30-bf72-41cc-a431-e0f403f00ec8",
   "metadata": {},
   "outputs": [],
   "source": [
    "grain_headings = first_word.index('Individual')\n",
    "grain_headings"
   ]
  },
  {
   "cell_type": "code",
   "execution_count": null,
   "id": "69b4c958-af74-4a81-923f-812e1404818d",
   "metadata": {},
   "outputs": [],
   "source": [
    "sample_grains = txt_data_all[grain_headings+1].split('\\t')\n",
    "sample_grain_stats = txt_data_all[grain_headings+2].split('\\t')\n",
    "\n",
    "sample_grains_cleaned = [\n",
    "        item.replace('\\n', '') if '\\n' in item else item for item in sample_grains\n",
    "    ]\n",
    "\n",
    "sample_grain_stats_cleaned = [\n",
    "        item.replace('\\n', '') if '\\n' in item else item for item in sample_grain_stats\n",
    "    ]"
   ]
  },
  {
   "cell_type": "code",
   "execution_count": null,
   "id": "97e28f56-7ad1-422e-9e6a-ee10cc254ac7",
   "metadata": {},
   "outputs": [],
   "source": [
    "sample_grains_cleaned[:10]"
   ]
  },
  {
   "cell_type": "code",
   "execution_count": null,
   "id": "7f56dbbc-1dec-4417-bf98-6ef63092126b",
   "metadata": {},
   "outputs": [],
   "source": [
    "sample_grain_stats_cleaned[:10]"
   ]
  },
  {
   "cell_type": "code",
   "execution_count": null,
   "id": "8d9b829d-557d-4cbd-a89d-4a9dd1064486",
   "metadata": {},
   "outputs": [],
   "source": [
    "sample_grain_list = [x for x in sample_grains_cleaned if x]\n",
    "sample_grain_list"
   ]
  },
  {
   "cell_type": "code",
   "execution_count": null,
   "id": "4ab50b2c-1740-4f49-ac3b-a42c59751a19",
   "metadata": {},
   "outputs": [],
   "source": []
  },
  {
   "cell_type": "code",
   "execution_count": null,
   "id": "5fc1e602-eaff-4718-a0eb-d7b16f22ba93",
   "metadata": {},
   "outputs": [],
   "source": [
    "txt_data = txt_data_all[head_length-1:]\n",
    "\n",
    "raw_data = [line.split('\\t') for line in txt_data[1:]]\n",
    "\n",
    "data_headers = raw_data[0]"
   ]
  },
  {
   "cell_type": "code",
   "execution_count": null,
   "id": "d8d8134d-b951-4c14-a5c1-2ad3baf120f3",
   "metadata": {},
   "outputs": [],
   "source": [
    "data_headers[:10]"
   ]
  },
  {
   "cell_type": "code",
   "execution_count": null,
   "id": "7b3c8f8f-9538-4fb2-9d39-8641bc971b5d",
   "metadata": {},
   "outputs": [],
   "source": [
    "# Extract path data\n",
    "txt_data = txt_data_all[head_length-1:]\n",
    "\n",
    "raw_data = [line.split('\\t') for line in txt_data[1:]]\n",
    "\n",
    "data_headers = raw_data[0]\n",
    "path_data = raw_data[1:]\n",
    "num_paths = (len(path_data))/2\n",
    "\n",
    "# Identify user-specified constraints in the path data\n",
    "con_index = [idx for idx, val in enumerate(data_headers) if 'con' in val.lower()]\n",
    "data_start = path_data[0].index('Time (Ma)')\n",
    "data_cleaned = []\n",
    "\n",
    "##\n",
    "print(data_headers)\n",
    "print(num_paths)\n",
    "\n",
    "print(con_index)"
   ]
  },
  {
   "cell_type": "code",
   "execution_count": null,
   "id": "89a7bcf8-1689-4741-a673-628ed18a4bbd",
   "metadata": {},
   "outputs": [],
   "source": [
    "print(data_start)"
   ]
  },
  {
   "cell_type": "code",
   "execution_count": null,
   "id": "b2d791e4-6349-416e-917b-c4ae240d6e26",
   "metadata": {},
   "outputs": [],
   "source": [
    "# Clean and format path data\n",
    "for path in path_data:\n",
    "    cleaned_path = [\n",
    "        item.replace('\\n', '') if '\\n' in item else item for item in path\n",
    "    ]\n",
    "    formatted_path = [\n",
    "        item if idx in [0, data_start] else None if idx == 1 and item == '' else float(item)\n",
    "        for idx, item in enumerate(cleaned_path)\n",
    "        if len(item) != 0 or idx == 1\n",
    "    ]\n",
    "    data_cleaned.append(formatted_path)\n",
    "    \n",
    "# Organize path data into dictionary\n",
    "path_dict = defaultdict(dict)"
   ]
  },
  {
   "cell_type": "code",
   "execution_count": null,
   "id": "e2bc64d0-e7fe-4549-a735-5ffca9fd17e1",
   "metadata": {},
   "outputs": [],
   "source": [
    "data_cleaned[0]"
   ]
  },
  {
   "cell_type": "code",
   "execution_count": null,
   "id": "cb57dba7-2e8f-442f-b5f8-e383e1666db1",
   "metadata": {},
   "outputs": [],
   "source": [
    "data_cleaned[1]"
   ]
  },
  {
   "cell_type": "code",
   "execution_count": null,
   "id": "7fba8765-285e-4b46-87bf-b248ddc833d5",
   "metadata": {},
   "outputs": [],
   "source": []
  },
  {
   "cell_type": "code",
   "execution_count": null,
   "id": "c4f6e858-44ad-4e41-9a82-062c8bd88b60",
   "metadata": {},
   "outputs": [],
   "source": [
    "# Loop over each path and populate the dictionary\n",
    "for path in data_cleaned:\n",
    "    path_id = path[0]\n",
    "    path_type = str.lower(path[data_start])\n",
    "\n",
    "    # Determine the data type (time, temp, or depth) based on the presence of specific keywords\n",
    "    if 'time (ma)' in path_type:\n",
    "        data_type_key = 'time'\n",
    "    elif 'temp' in path_type:\n",
    "        data_type_key = 'temp'\n",
    "    elif 'depth' in path_type:\n",
    "        data_type_key = 'depth'\n",
    "    else:\n",
    "        # Skip entries without recognized types\n",
    "        continue\n",
    "\n",
    "    # Store main data for time, temp, or depth\n",
    "    path_dict[path_id][data_type_key] = path[data_start + 1:]\n",
    "\n",
    "    # Store 'stage' for time paths, 'comp_GOF' for temp and depth\n",
    "    if data_type_key == 'time':\n",
    "        path_dict[path_id]['stage'] = path[1]\n",
    "    else:\n",
    "        path_dict[path_id]['comp_GOF'] = path[1]\n",
    "\n",
    "    # Collect user-specified constraint values and store them under the constraint-specific key\n",
    "    con_only = [val for idx, val in enumerate(path) if idx in con_index]\n",
    "    path_dict[path_id][f'{data_type_key}_con'] = con_only"
   ]
  },
  {
   "cell_type": "code",
   "execution_count": null,
   "id": "e32d1945-c7a0-4a12-a233-71bd7fd36540",
   "metadata": {},
   "outputs": [],
   "source": []
  },
  {
   "cell_type": "code",
   "execution_count": null,
   "id": "62d46ab4-39d5-4240-9e59-4606ea93a31c",
   "metadata": {},
   "outputs": [],
   "source": [
    "test_data = data_cleaned[0]"
   ]
  },
  {
   "cell_type": "code",
   "execution_count": null,
   "id": "42b00e7b-ce01-449e-a759-f2745643dbea",
   "metadata": {},
   "outputs": [],
   "source": [
    "path_id = test_data[0]\n",
    "path_type = str.lower(test_data[data_start])\n",
    "\n",
    "print(path_id)\n",
    "print(path_type)"
   ]
  },
  {
   "cell_type": "code",
   "execution_count": null,
   "id": "881a030b-38b7-4f10-958e-c975a53ecacf",
   "metadata": {},
   "outputs": [],
   "source": [
    "print(sample_grains_cleaned[2])\n",
    "print(sample_grains_cleaned[data_start-1])"
   ]
  },
  {
   "cell_type": "code",
   "execution_count": null,
   "id": "ae94eb73-deb7-4751-b35e-88a18710f23b",
   "metadata": {},
   "outputs": [],
   "source": [
    "print(sample_grain_stats_cleaned[2])\n",
    "print(sample_grain_stats_cleaned[data_start-1])"
   ]
  },
  {
   "cell_type": "code",
   "execution_count": null,
   "id": "9015b99b-2bd8-4dcf-9512-3d9068ba0905",
   "metadata": {},
   "outputs": [],
   "source": [
    "sample_grains_cleaned = [s.replace(' ', '_') if s else s for s in sample_grains_cleaned]"
   ]
  },
  {
   "cell_type": "code",
   "execution_count": null,
   "id": "8c8b15a9-83b9-4534-969e-ce57c5471e24",
   "metadata": {},
   "outputs": [],
   "source": [
    "sample_grain_stats_cleaned = [s.replace(' ', '_') if s else s for s in sample_grain_stats_cleaned]"
   ]
  },
  {
   "cell_type": "code",
   "execution_count": null,
   "id": "c785b39c-40af-4b72-8444-ca14edb34822",
   "metadata": {},
   "outputs": [],
   "source": []
  },
  {
   "cell_type": "code",
   "execution_count": null,
   "id": "e3353408-85dd-4b4b-bdce-a2cf2070eb5b",
   "metadata": {},
   "outputs": [],
   "source": [
    "for i in range(2,data_start):\n",
    "    print(sample_grains_cleaned[i],\",\",sample_grain_stats_cleaned[i], data_headers[i])"
   ]
  },
  {
   "cell_type": "code",
   "execution_count": null,
   "id": "0d3d695e-b0c4-4733-9715-6caea74879c5",
   "metadata": {},
   "outputs": [],
   "source": [
    "sample_grains_cleaned"
   ]
  },
  {
   "cell_type": "code",
   "execution_count": null,
   "id": "18c508b4-0244-4706-af1f-75528fd7cae2",
   "metadata": {},
   "outputs": [],
   "source": [
    "sample_grain_list = [x for x in sample_grains_cleaned if x]\n",
    "sample_grain_list"
   ]
  },
  {
   "cell_type": "code",
   "execution_count": null,
   "id": "baaabed4-b765-4c88-88b3-ff1d3ed8c137",
   "metadata": {},
   "outputs": [],
   "source": [
    "seen = set()\n",
    "sample_grain_list = [x for x in sample_grains_cleaned if x and not (x in seen or seen.add(x))]"
   ]
  },
  {
   "cell_type": "code",
   "execution_count": null,
   "id": "df5d0eba-1098-45d4-a630-6662a8f634f3",
   "metadata": {},
   "outputs": [],
   "source": [
    "sample_grain_list"
   ]
  },
  {
   "cell_type": "code",
   "execution_count": null,
   "id": "e7cb2717-3b1b-4050-ad60-d5f06a5d21ce",
   "metadata": {},
   "outputs": [],
   "source": [
    "# Determine the data type (time, temp, or depth) based on the presence of specific keywords\n",
    "if 'time (ma)' in path_type:\n",
    "    data_type_key = 'time'\n",
    "elif 'temp' in path_type:\n",
    "    data_type_key = 'temp'\n",
    "elif 'depth' in path_type:\n",
    "    data_type_key = 'depth'\n",
    "else:\n",
    "    # Skip entries without recognized types\n",
    "    pass\n",
    "\n",
    "# Store main data for time, temp, or depth\n",
    "path_dict[path_id][data_type_key] = test_data[data_start + 1:]\n",
    "\n",
    "# Store 'stage' for time paths, 'comp_GOF' for temp and depth\n",
    "if data_type_key == 'time':\n",
    "    path_dict[path_id]['stage'] = test_data[1]\n",
    "    for i in range(2,data_start):\n",
    "        grain_id = sample_grains_cleaned[i]\n",
    "        grain_stat1 = sample_grain_stats_cleaned[i]\n",
    "        \n",
    "        if grain_id not in path_dict[path_id]:\n",
    "            path_dict[path_id][grain_id] = {}\n",
    "            \n",
    "        if grain_stat1 in ('corr._age_(Ma)','age_(Ma)'):\n",
    "            path_dict[path_id][grain_id]['modeled_age'] = float(path[i]) if path[i] else None\n",
    "        else:\n",
    "            path_dict[path_id][grain_id][grain_stat1] = float(path[i]) if path[i] else None\n",
    "            \n",
    "        #path_dict[path_id][grain_id] = {'corr_modeled_age': test_data[i]}\n",
    "else:\n",
    "    path_dict[path_id]['comp_GOF'] = test_data[1]\n",
    "    for i in range(2,data_start):\n",
    "        grain_id = sample_grains_cleaned[i]\n",
    "        grain_stat2 = data_headers[i]\n",
    "        \n",
    "        if grain_id not in path_dict[path_id]:\n",
    "            path_dict[path_id][grain_id] = {}\n",
    "        \n",
    "        if grain_stat2 == 'GOF':\n",
    "            #path_dict[path_id][grain_id] = {'modeled_age_GOF': test_data[i]}\n",
    "            path_dict[path_id][grain_id]['modeled_age_GOF'] = float(path[i]) if path[i] else None\n",
    "        else:\n",
    "            path_dict[path_id][grain_id][grain_stat2] = float(path[i]) if path[i] else None\n",
    "        \n",
    "# Collect user-specified constraint values and store them under the constraint-specific key\n",
    "con_only = [val for idx, val in enumerate(path) if idx in con_index]\n",
    "path_dict[path_id][f'{data_type_key}_con'] = con_only"
   ]
  },
  {
   "cell_type": "code",
   "execution_count": null,
   "id": "fdd5f62b-2932-4497-a65f-1470d2bde10d",
   "metadata": {},
   "outputs": [],
   "source": [
    "path_dict"
   ]
  },
  {
   "cell_type": "code",
   "execution_count": null,
   "id": "13b68379-aac2-41b6-8a74-de9a01da465d",
   "metadata": {},
   "outputs": [],
   "source": []
  },
  {
   "cell_type": "code",
   "execution_count": null,
   "id": "c4322262-91a1-483e-a997-92b5d59e9f82",
   "metadata": {},
   "outputs": [],
   "source": [
    "ax.set_xlabel('Time (Ma)',\n",
    "                    labelpad = 8.0,\n",
    "                    fontname= \"Arial\",\n",
    "                    fontsize=12,\n",
    "                    weight=500,\n",
    "                    color=GREY40\n",
    "                    )"
   ]
  },
  {
   "cell_type": "code",
   "execution_count": null,
   "id": "829849f0-6b8a-42ad-a97a-daf1c7c4b147",
   "metadata": {},
   "outputs": [],
   "source": [
    "title = 'Sample {} - {}'.format(sample, plot_type)\n",
    "if plotAgeHistogram:\n",
    "    fig.suptitle(title,\n",
    "              fontsize = 15,\n",
    "              fontname = \"Arial\",\n",
    "              color = GREY10\n",
    "              )\n",
    "else:\n",
    "    plt.title(title,\n",
    "              fontsize = 15,\n",
    "              fontname = \"Arial\",\n",
    "              color = GREY10,\n",
    "              pad = 15\n",
    "             )"
   ]
  },
  {
   "cell_type": "code",
   "execution_count": null,
   "id": "2b395467-7668-4eb9-a05c-63ce75f75371",
   "metadata": {},
   "outputs": [],
   "source": []
  },
  {
   "cell_type": "code",
   "execution_count": null,
   "id": "7ce6dfa6-8607-44c0-bd1e-40782774ece0",
   "metadata": {},
   "outputs": [],
   "source": []
  },
  {
   "cell_type": "code",
   "execution_count": null,
   "id": "137e8ee8-6213-4d6e-9222-d15cbb99f5dd",
   "metadata": {},
   "outputs": [],
   "source": []
  },
  {
   "cell_type": "markdown",
   "id": "778a5ce6-ed41-4c64-ac25-3a1fe7812610",
   "metadata": {},
   "source": [
    "## 0. Import modules\n",
    "Run this cell to import the necessary Jupyter modules every time you open HeFTyPy."
   ]
  },
  {
   "cell_type": "code",
   "execution_count": 1,
   "id": "3c162e9a-3402-46bf-9bf0-bedc2fc4c7ba",
   "metadata": {},
   "outputs": [],
   "source": [
    "# HeFTy Functions\n",
    "import HeFTyFuncsClasses as hFunc\n",
    "\n",
    "import matplotlib\n",
    "%matplotlib inline\n",
    "%config InlineBackend.figure_format = 'retina'"
   ]
  },
  {
   "cell_type": "markdown",
   "id": "3e154d5a-85ce-4b70-940f-e1f794b6aa7b",
   "metadata": {
    "jp-MarkdownHeadingCollapsed": true
   },
   "source": [
    "## <font color = green> *Single Sample Model Workflow* </font>\n",
    "### 1. Load HeFTy Model Data"
   ]
  },
  {
   "cell_type": "markdown",
   "id": "e35a8ed6-002d-4aaf-ba8d-42bab2d82ebf",
   "metadata": {},
   "source": [
    "#### Testing Helium Model"
   ]
  },
  {
   "cell_type": "code",
   "execution_count": null,
   "id": "39ceb804-0a03-4db6-8cdf-c27f2f567641",
   "metadata": {},
   "outputs": [],
   "source": [
    "file_name = 'example_data/CHL15-02B-AHe-ZHe-inv.txt'\n",
    "\n",
    "# Create a model holding all of the data\n",
    "model_data = hFunc.SingleSampleModel(file_name)"
   ]
  },
  {
   "cell_type": "code",
   "execution_count": null,
   "id": "d77c5955-8b10-49e8-95f4-f3653f35230b",
   "metadata": {},
   "outputs": [],
   "source": [
    "test_data = model_data.get_path_data()"
   ]
  },
  {
   "cell_type": "code",
   "execution_count": null,
   "id": "161d843c-0ef0-4157-aea3-1974a599f801",
   "metadata": {},
   "outputs": [],
   "source": [
    "test_data['Best']"
   ]
  },
  {
   "cell_type": "markdown",
   "id": "559e415f-bd07-4d8c-9c03-0bb19f66f960",
   "metadata": {},
   "source": [
    "#### Testing Fission Track Model"
   ]
  },
  {
   "cell_type": "code",
   "execution_count": null,
   "id": "49c7110d-fb26-469b-97fc-549ddf53988c",
   "metadata": {},
   "outputs": [],
   "source": [
    "file_name_AFT = 'example_data/AL01_AFT-inv_tZ.txt'\n",
    "\n",
    "# Create a model holding all of the data\n",
    "model_data_AFT = hFunc.SingleSampleModel(file_name_AFT)"
   ]
  },
  {
   "cell_type": "code",
   "execution_count": null,
   "id": "cc768743-0d58-462d-8991-bb4a59b165f3",
   "metadata": {},
   "outputs": [],
   "source": [
    "test_data_AFT = model_data_AFT.get_path_data()"
   ]
  },
  {
   "cell_type": "code",
   "execution_count": null,
   "id": "2926fbb3-6b4c-4e59-be2d-7ce487d368c6",
   "metadata": {},
   "outputs": [],
   "source": [
    "test_data_AFT['Best']"
   ]
  },
  {
   "cell_type": "markdown",
   "id": "d09d390e-7c20-432e-b76d-b9d678bf9d91",
   "metadata": {},
   "source": [
    "### Plot Distribution of Modeled Ages"
   ]
  },
  {
   "cell_type": "markdown",
   "id": "07b32127-1995-4aee-a59c-044cafd3f519",
   "metadata": {},
   "source": [
    "#### Testing Helium Model"
   ]
  },
  {
   "cell_type": "code",
   "execution_count": null,
   "id": "6fbc4715-d5c4-4237-bef0-00c272452a79",
   "metadata": {},
   "outputs": [],
   "source": [
    "bins = 20\n",
    "share_x = False\n",
    "\n",
    "whatToPlot = 'histogram' # 'histogram', 'kde', 'both'\n",
    "\n",
    "# Save Figure \n",
    "saveFig = False\n",
    "saveFolder = 'Plots_testing'\n",
    "savefigFileName = 'CHL15_modeled_ages_histogram'\n",
    "\n",
    "##\n",
    "model_data.plot_modeled_age_histograms(bins, share_x, whatToPlot, saveFig, saveFolder, savefigFileName)"
   ]
  },
  {
   "cell_type": "markdown",
   "id": "f56532e3-d962-4ada-8bb1-4a26d1c2cbb2",
   "metadata": {},
   "source": [
    "#### Testing Fission Track Model"
   ]
  },
  {
   "cell_type": "code",
   "execution_count": null,
   "id": "fe72d2c6-a0ca-4f2f-be98-47c454967194",
   "metadata": {},
   "outputs": [],
   "source": [
    "bins = 20\n",
    "share_x = False\n",
    "\n",
    "whatToPlot = 'both' # 'histogram', 'kde', 'both'\n",
    "\n",
    "# Save Figure \n",
    "saveFig = False\n",
    "saveFolder = 'Plots_testing'\n",
    "savefigFileName = 'CHL15_modeled_ages_histogram'\n",
    "\n",
    "##\n",
    "model_data_AFT.plot_modeled_age_histograms(bins, share_x, whatToPlot, saveFig, saveFolder, savefigFileName)"
   ]
  },
  {
   "cell_type": "markdown",
   "id": "9203b941-832e-40cf-8aa7-1c721886455d",
   "metadata": {},
   "source": [
    "### Measured vs. Modeled Ages"
   ]
  },
  {
   "cell_type": "markdown",
   "id": "986bd9fc-48ab-456a-9d2b-26c091ed2eaa",
   "metadata": {},
   "source": [
    "#### Testing Helium Model\n",
    "Run the below cell to get a list of samples included in the model. "
   ]
  },
  {
   "cell_type": "code",
   "execution_count": null,
   "id": "3e14efeb-c83e-4040-a31c-f1c6fe0b9dca",
   "metadata": {},
   "outputs": [],
   "source": [
    "model_data.sample_grain_list"
   ]
  },
  {
   "cell_type": "code",
   "execution_count": null,
   "id": "ed441267-cc10-45d0-be83-e0637f070329",
   "metadata": {},
   "outputs": [],
   "source": [
    "# Specify measured ages for samples in model \n",
    "measured_sample_ages = [15.1, 25.8, 12.8, 15.0, 204.6, 245.2, 243.5] # Ages should correspond to above sample list, in order\n",
    "\n",
    "# Specify axis bounds\n",
    "ahe_x_bounds = (10,30)\n",
    "zhe_x_bounds = (200,250)\n",
    "\n",
    "ahe_y_bounds = (0,35)\n",
    "zhe_y_bounds = (100,300)\n",
    "\n",
    "aft_x_bounds = None\n",
    "zft_x_bounds = None\n",
    "\n",
    "aft_y_bounds = None\n",
    "zft_y_bounds = None\n",
    "\n",
    "show_1v1_line = 'both' # 'line', 'point', 'both' or None\n",
    "\n",
    "# Save Figure \n",
    "saveFig = False\n",
    "saveFolder = 'Plots_testing'\n",
    "savefigFileName = 'CHL15_measured_vs_modeled ages'"
   ]
  },
  {
   "cell_type": "code",
   "execution_count": null,
   "id": "bdb6e13d-f43f-44e7-a437-41b4fab4d6b8",
   "metadata": {},
   "outputs": [],
   "source": [
    "model_data.plot_measured_vs_modeled(measured_sample_ages, \n",
    "                                    ahe_x_bounds, zhe_x_bounds, aft_x_bounds, zft_x_bounds,\n",
    "                                    ahe_y_bounds, zhe_y_bounds, aft_y_bounds, zft_y_bounds,\n",
    "                                    show_1v1_line,\n",
    "                                    saveFig, saveFolder, savefigFileName)"
   ]
  },
  {
   "cell_type": "markdown",
   "id": "789ccb35-f819-46c4-857c-a3c20c594bd4",
   "metadata": {},
   "source": [
    "#### Testing Fission Track Model\n",
    "Run the below cell to get a list of samples included in the model. "
   ]
  },
  {
   "cell_type": "code",
   "execution_count": null,
   "id": "270e5649-3b9b-4be5-92a8-f713ba568ed1",
   "metadata": {},
   "outputs": [],
   "source": [
    "model_data_AFT.sample_grain_list"
   ]
  },
  {
   "cell_type": "code",
   "execution_count": null,
   "id": "86cacf00-8c65-45d3-9836-415159c7b4fc",
   "metadata": {},
   "outputs": [],
   "source": [
    "# Specify measured ages for samples in model \n",
    "measured_sample_ages = [35,40] # Ages should correspond to above sample list, in order\n",
    "\n",
    "# Specify axis bounds\n",
    "ahe_x_bounds = None\n",
    "zhe_x_bounds = None\n",
    "\n",
    "ahe_y_bounds = None\n",
    "zhe_y_bounds = None\n",
    "\n",
    "aft_x_bounds = (25,50)\n",
    "zft_x_bounds = None\n",
    "\n",
    "aft_y_bounds = (20,50)\n",
    "zft_y_bounds = None\n",
    "\n",
    "show_1v1_line = 'both' # 'line', 'point', 'both' or None\n",
    "\n",
    "# Save Figure \n",
    "saveFig = False\n",
    "saveFolder = 'Plots_testing'\n",
    "savefigFileName = 'AL01_measured_vs_modeled ages'"
   ]
  },
  {
   "cell_type": "code",
   "execution_count": null,
   "id": "7cac5f49-0c61-426b-a522-cde9be50d005",
   "metadata": {},
   "outputs": [],
   "source": [
    "model_data_AFT.plot_measured_vs_modeled(measured_sample_ages, \n",
    "                                    ahe_x_bounds, zhe_x_bounds, aft_x_bounds, zft_x_bounds,\n",
    "                                    ahe_y_bounds, zhe_y_bounds, aft_y_bounds, zft_y_bounds,\n",
    "                                    show_1v1_line,\n",
    "                                    saveFig, saveFolder, savefigFileName)"
   ]
  },
  {
   "cell_type": "markdown",
   "id": "9450d0f2-34e3-4a3e-a5b8-abd52cf1b7b0",
   "metadata": {},
   "source": [
    "### 2. Visualize Single Sample Data\n",
    "This function plots HeFTy path data for single sample models. There are options to plot the data as lines, points, or envelopes. "
   ]
  },
  {
   "cell_type": "markdown",
   "id": "da5e967a-8c6c-4388-9fae-ec6e8dec99a7",
   "metadata": {},
   "source": [
    "#### Testing Helium Model"
   ]
  },
  {
   "cell_type": "code",
   "execution_count": null,
   "id": "38843960-1b98-496d-ad59-497449374fc6",
   "metadata": {},
   "outputs": [],
   "source": [
    "## Set sample and plot details -----------------------------\n",
    "sample = 'CHL15' \n",
    "\n",
    "plot_type = 'line' # 'line', 'points', or 'envelopes'\n",
    "y_variable = 'temp' # 'temp' or 'depth'\n",
    "\n",
    "which_envelopes = 'both' #'both', 'good', or 'acc'\n",
    "\n",
    "y_lim = (300,0) # (higher bound, lower bound)\n",
    "x_lim = (290,0) # (higher bound, lower bound)\n",
    "\n",
    "## Histogram (optional) -----------------------------\n",
    "plotAgeHistogram = True # True or False\n",
    "bin_width = 5\n",
    "histogramColorPalette = 'Dark2'\n",
    "stat = 'count' # 'count', 'frequency', 'probability', 'percent', or 'density'\n",
    "\n",
    "## Customize plot style -----------------------------\n",
    "# default HeFty style is black best path, fuchsia good paths, and green acceptable paths \n",
    "defaultHeftyStyle = True # True or False \n",
    "\n",
    "# the following colors will only apply if defaultHeftyStyle (above) is marked False\n",
    "bestPathColor = 'midnightblue'\n",
    "goodPathColor = 'cornflowerblue'\n",
    "accPathColor = 'lightsteelblue'\n",
    "\n",
    "# Constraint Box Settings\n",
    "showConstraintBoxes = True # True or False\n",
    "constraintBoxColor = 'red'\n",
    "constraintLineColor = 'black'\n",
    "constraintMarkerStyle = 's'\n",
    "\n",
    "## Save Figure -----------------------------\n",
    "saveFig = False\n",
    "saveFolder = 'Plots_testing'\n",
    "savefigFileName = 'CHL15_Path_data_test_lines_w_histogram'"
   ]
  },
  {
   "cell_type": "code",
   "execution_count": null,
   "id": "892ab01a-631c-449f-93d8-af0219ed22db",
   "metadata": {},
   "outputs": [],
   "source": [
    "model_data.plotSingleSamplePathData(sample, plot_type, \n",
    "                            y_variable, which_envelopes, y_lim, x_lim,\n",
    "                            plotAgeHistogram, bin_width, histogramColorPalette, stat,\n",
    "                            defaultHeftyStyle, bestPathColor , goodPathColor , accPathColor ,\n",
    "                            showConstraintBoxes, constraintBoxColor , constraintLineColor , constraintMarkerStyle ,\n",
    "                            saveFig, saveFolder, savefigFileName)"
   ]
  },
  {
   "cell_type": "markdown",
   "id": "33a5b783-55fb-414f-bbd3-c1f0e06e7205",
   "metadata": {},
   "source": [
    "#### Testing Fission Track Model"
   ]
  },
  {
   "cell_type": "code",
   "execution_count": null,
   "id": "f28afe04-2a65-4893-a73a-7e7f2b46106a",
   "metadata": {},
   "outputs": [],
   "source": [
    "## Set sample and plot details -----------------------------\n",
    "sample = 'AL01' \n",
    "\n",
    "plot_type = 'points' # 'line', 'points', or 'envelopes'\n",
    "y_variable = 'depth' # 'temp' or 'depth'\n",
    "\n",
    "which_envelopes = 'both' #'both', 'good', or 'acc'\n",
    "\n",
    "y_lim = (30,0) # (higher bound, lower bound)\n",
    "x_lim = (310,0) # (higher bound, lower bound)\n",
    "\n",
    "## Histogram (optional) -----------------------------\n",
    "plotAgeHistogram = True # True or False\n",
    "bin_width = 5\n",
    "histogramColorPalette = 'Dark2'\n",
    "stat = 'count' # 'count', 'frequency', 'probability', 'percent', or 'density'\n",
    "\n",
    "## Customize plot style -----------------------------\n",
    "# default HeFty style is black best path, fuchsia good paths, and green acceptable paths \n",
    "defaultHeftyStyle = True # True or False \n",
    "\n",
    "# the following colors will only apply if defaultHeftyStyle (above) is marked False\n",
    "bestPathColor = 'midnightblue'\n",
    "goodPathColor = 'cornflowerblue'\n",
    "accPathColor = 'lightsteelblue'\n",
    "\n",
    "# Constraint Box Settings\n",
    "showConstraintBoxes = True # True or False\n",
    "constraintBoxColor = 'red'\n",
    "constraintLineColor = 'black'\n",
    "constraintMarkerStyle = 's'\n",
    "\n",
    "## Save Figure -----------------------------\n",
    "saveFig = False\n",
    "saveFolder = 'Plots_testing'\n",
    "savefigFileName = 'AL01_Path_data_test_lines_w_histogram'"
   ]
  },
  {
   "cell_type": "code",
   "execution_count": null,
   "id": "00100484-4237-4ebe-bd00-db5539aecff3",
   "metadata": {},
   "outputs": [],
   "source": [
    "model_data_AFT.plotSingleSamplePathData(sample, plot_type, \n",
    "                            y_variable, which_envelopes, y_lim, x_lim,\n",
    "                            plotAgeHistogram, bin_width, histogramColorPalette, stat,\n",
    "                            defaultHeftyStyle, bestPathColor , goodPathColor , accPathColor ,\n",
    "                            showConstraintBoxes, constraintBoxColor , constraintLineColor , constraintMarkerStyle ,\n",
    "                            saveFig, saveFolder, savefigFileName)"
   ]
  },
  {
   "cell_type": "markdown",
   "id": "66c82153-a609-48d7-8bcc-c0064d752350",
   "metadata": {},
   "source": [
    "### 3. Identify Single-Sample Path Families"
   ]
  },
  {
   "cell_type": "markdown",
   "id": "7ad0768f-089b-4e68-96c0-3e23f8067490",
   "metadata": {},
   "source": [
    "#### Testing Helium Model"
   ]
  },
  {
   "cell_type": "code",
   "execution_count": null,
   "id": "f6ded56f-3c48-43bc-b991-435f0ca640ba",
   "metadata": {},
   "outputs": [],
   "source": [
    "## Set sample and plot details -----------------------------\n",
    "sample = 'CHL15'\n",
    "\n",
    "plot_type = 'line' #'line' or 'points'\n",
    "y_variable = 'temp' #'temp' or'depth\n",
    "\n",
    "y_lim = (300,0) # (higher bound, lower bound)\n",
    "x_lim = (290,0) # (higher bound, lower bound)\n",
    "\n",
    "\n",
    "## Customize plot style -----------------------------\n",
    "good_match_color = 'goldenrod'\n",
    "acc_match_color = 'gold'\n",
    "\n",
    "showConstraintBoxes = True\n",
    "constraintBoxColor = 'red'\n",
    "constraintLineColor = 'black'\n",
    "constraintMarkerStyle = 's'\n",
    "\n",
    "## Specify bounds for path families -----------------------------\n",
    "# Set bounds for each constraint box to identify path families. Default is None.\n",
    "# Constraints set in the style of ('<= value', '>= value') i.e. between (higher number, lower number)\n",
    "# Function can accomodate up to 15 constraints, add additional constraints in format of c1_x/c1_y ... c15_x/x15_y\n",
    "# If you add more constraints, make sure to add them to the end of the function call as well. \n",
    "c1_x =  (15,0)\n",
    "c1_y = None\n",
    "\n",
    "c2_x = None\n",
    "c2_y = None\n",
    "\n",
    "c3_x = None \n",
    "c3_y = None\n",
    "\n",
    "c4_x = None \n",
    "c4_y = None\n",
    "\n",
    "## Save Figure -----------------------------\n",
    "saveFig = False\n",
    "saveFolder = 'Plots_testing'\n",
    "savefigFileName = 'CHL15_matched_paths_<15Ma'"
   ]
  },
  {
   "cell_type": "code",
   "execution_count": null,
   "id": "908a171d-b7d3-4605-9663-f2914fd7a939",
   "metadata": {},
   "outputs": [],
   "source": [
    "key_matched_paths = model_data.identifyPathFamilies(sample, plot_type,\n",
    "                              y_variable, y_lim, x_lim ,\n",
    "                              good_match_color, acc_match_color, \n",
    "                              showConstraintBoxes, \n",
    "                              constraintBoxColor, constraintLineColor, constraintMarkerStyle,\n",
    "                              saveFig, saveFolder, savefigFileName,\n",
    "                              c1_x, c1_y,c2_x, c2_y,c3_x, c3_y, c4_x, c4_y)"
   ]
  },
  {
   "cell_type": "code",
   "execution_count": null,
   "id": "1b9a5a88-5928-48ed-9e6d-6d8d110daebb",
   "metadata": {},
   "outputs": [],
   "source": [
    "key_matched_paths"
   ]
  },
  {
   "cell_type": "markdown",
   "id": "b942ba5b-34e6-4009-9995-79b088608b8e",
   "metadata": {},
   "source": [
    "#### Testing Fission Track Model"
   ]
  },
  {
   "cell_type": "code",
   "execution_count": null,
   "id": "49f0d7ce-bc6c-438c-8e7f-a3d576dd60e1",
   "metadata": {},
   "outputs": [],
   "source": [
    "## Set sample and plot details -----------------------------\n",
    "sample = 'AL01'\n",
    "\n",
    "plot_type = 'points' #'line' or 'points'\n",
    "y_variable = 'depth' #'temp' or'depth\n",
    "\n",
    "y_lim = (30,0) # (higher bound, lower bound)\n",
    "x_lim = (310,0) # (higher bound, lower bound)\n",
    "\n",
    "\n",
    "## Customize plot style -----------------------------\n",
    "good_match_color = 'goldenrod'\n",
    "acc_match_color = 'gold'\n",
    "\n",
    "showConstraintBoxes = True\n",
    "constraintBoxColor = 'red'\n",
    "constraintLineColor = 'black'\n",
    "constraintMarkerStyle = 's'\n",
    "\n",
    "## Specify bounds for path families -----------------------------\n",
    "# Set bounds for each constraint box to identify path families. Default is None.\n",
    "# Constraints set in the style of ('<= value', '>= value') i.e. between (higher number, lower number)\n",
    "# Function can accomodate up to 15 constraints, add additional constraints in format of c1_x/c1_y ... c15_x/x15_y\n",
    "# If you add more constraints, make sure to add them to the end of the function call as well. \n",
    "c1_x =  (20,0)\n",
    "c1_y = None\n",
    "\n",
    "c2_x = None\n",
    "c2_y = None\n",
    "\n",
    "c3_x = None \n",
    "c3_y = None\n",
    "\n",
    "c4_x = None \n",
    "c4_y = None\n",
    "\n",
    "## Save Figure -----------------------------\n",
    "saveFig = False\n",
    "saveFolder = 'Plots_testing'\n",
    "savefigFileName = 'AL01_matched_paths_<15Ma'"
   ]
  },
  {
   "cell_type": "code",
   "execution_count": null,
   "id": "6fbb58b0-63aa-40d1-ba8f-a25f171ba2da",
   "metadata": {},
   "outputs": [],
   "source": [
    "key_matched_paths_AFT = model_data_AFT.identifyPathFamilies(sample, plot_type,\n",
    "                              y_variable, y_lim, x_lim ,\n",
    "                              good_match_color, acc_match_color, \n",
    "                              showConstraintBoxes, \n",
    "                              constraintBoxColor, constraintLineColor, constraintMarkerStyle,\n",
    "                              saveFig, saveFolder, savefigFileName,\n",
    "                              c1_x, c1_y,c2_x, c2_y,c3_x, c3_y, c4_x, c4_y)"
   ]
  },
  {
   "cell_type": "code",
   "execution_count": null,
   "id": "730d2b74-ce39-40a3-915a-4a850bfa09ca",
   "metadata": {},
   "outputs": [],
   "source": [
    "key_matched_paths_AFT"
   ]
  },
  {
   "cell_type": "markdown",
   "id": "0ea14ec2-4347-43c4-809f-49e1000ab45b",
   "metadata": {},
   "source": [
    "---"
   ]
  },
  {
   "cell_type": "markdown",
   "id": "3b696f8b-93b7-47f6-8bab-ab5cdffdbe00",
   "metadata": {},
   "source": [
    "## <font color = purple> *Multi Sample Model Workflow* </font>\n",
    "### Figuring out Multi-Sample Class Model\n",
    "#### Load in the multi-sample model"
   ]
  },
  {
   "cell_type": "code",
   "execution_count": 2,
   "id": "243bf7b7-72bb-4d8b-8e09-7ef69db51b5f",
   "metadata": {},
   "outputs": [],
   "source": [
    "folder_path = 'example_data/multi_sample'\n",
    "\n",
    "# Create a model holding all of the data\n",
    "multisample_model = hFunc.MultiSampleModel(folder_path)"
   ]
  },
  {
   "cell_type": "markdown",
   "id": "99854365-59c1-4ff0-9aed-33980480108b",
   "metadata": {},
   "source": [
    "#### Check the samples and data within the larger model"
   ]
  },
  {
   "cell_type": "code",
   "execution_count": 3,
   "id": "2d663985-3ad7-44c9-a3f4-7ca89033eca8",
   "metadata": {},
   "outputs": [
    {
     "data": {
      "text/plain": [
       "[('GAN', ['temp']),\n",
       " ('AN03', ['temp', 'depth']),\n",
       " ('AN04', ['temp']),\n",
       " ('AN05', ['temp'])]"
      ]
     },
     "execution_count": 3,
     "metadata": {},
     "output_type": "execute_result"
    }
   ],
   "source": [
    "multisample_model.list_samples_and_types()"
   ]
  },
  {
   "cell_type": "markdown",
   "id": "79217f86-0926-46ca-9705-144966d92b07",
   "metadata": {},
   "source": [
    "See that each sample is linked to a SingleSampleModel object. "
   ]
  },
  {
   "cell_type": "code",
   "execution_count": 4,
   "id": "924dd990-2737-49e8-9861-c096266e82b0",
   "metadata": {},
   "outputs": [
    {
     "data": {
      "text/plain": [
       "{'GAN': {'temp': <HeFTyFuncsClasses.SingleSampleModel at 0x16e83c3d0>},\n",
       " 'AN03': {'temp': <HeFTyFuncsClasses.SingleSampleModel at 0x1039781d0>,\n",
       "  'depth': <HeFTyFuncsClasses.SingleSampleModel at 0x176fa4190>},\n",
       " 'AN04': {'temp': <HeFTyFuncsClasses.SingleSampleModel at 0x1039b5e50>},\n",
       " 'AN05': {'temp': <HeFTyFuncsClasses.SingleSampleModel at 0x177cdc110>}}"
      ]
     },
     "execution_count": 4,
     "metadata": {},
     "output_type": "execute_result"
    }
   ],
   "source": [
    "multisample_model.samples"
   ]
  },
  {
   "cell_type": "markdown",
   "id": "ee4244fe-fcab-4e72-af82-072c9a2fffd9",
   "metadata": {},
   "source": [
    "#### Identify the 'Master Sample' that has info on constraints, and models for depth and temperature"
   ]
  },
  {
   "cell_type": "code",
   "execution_count": 5,
   "id": "28dd9166-bab4-4a5e-b3b3-d879e5bb217b",
   "metadata": {},
   "outputs": [
    {
     "data": {
      "text/plain": [
       "{'sample_name': 'AN03',\n",
       " 'models': {'temp': <HeFTyFuncsClasses.SingleSampleModel at 0x1039781d0>,\n",
       "  'depth': <HeFTyFuncsClasses.SingleSampleModel at 0x176fa4190>}}"
      ]
     },
     "execution_count": 5,
     "metadata": {},
     "output_type": "execute_result"
    }
   ],
   "source": [
    "multisample_model.master_sample"
   ]
  },
  {
   "cell_type": "markdown",
   "id": "8d793248-fdbb-4692-aa03-1643db5844a1",
   "metadata": {},
   "source": [
    "#### Check the best fit paths"
   ]
  },
  {
   "cell_type": "code",
   "execution_count": 8,
   "id": "f9beec51-743e-49ee-877c-1a02be65933a",
   "metadata": {
    "scrolled": true
   },
   "outputs": [
    {
     "data": {
      "text/plain": [
       "{'GAN': {'temp': {'time': [275.765962567119,\n",
       "    274.96486872049,\n",
       "    274.803414297918,\n",
       "    274.695778016203,\n",
       "    274.641959875345,\n",
       "    274.588141734488,\n",
       "    274.480505452773,\n",
       "    274.372869171058,\n",
       "    274.265232889343,\n",
       "    274.157596607628,\n",
       "    274.049960325913,\n",
       "    273.834687762483,\n",
       "    273.626845838437,\n",
       "    273.251845838437,\n",
       "    273.023686733023,\n",
       "    272.795527627609,\n",
       "    272.567368522195,\n",
       "    272.339209416781,\n",
       "    272.111050311367,\n",
       "    271.882891205953,\n",
       "    271.654732100539,\n",
       "    271.426572995125,\n",
       "    271.198413889712,\n",
       "    270.970254784298,\n",
       "    270.742095678884,\n",
       "    270.51393657347,\n",
       "    270.057618362642,\n",
       "    269.601300151814,\n",
       "    268.968117675,\n",
       "    268.364958569586,\n",
       "    267.908640358758,\n",
       "    266.996003937103,\n",
       "    266.083367515447,\n",
       "    265.170731093791,\n",
       "    264.029935566722,\n",
       "    262.660980934238,\n",
       "    261.292026301755,\n",
       "    259.694912563858,\n",
       "    258.247045560008,\n",
       "    256.878090927524,\n",
       "    255.280977189627,\n",
       "    253.945704516939,\n",
       "    253.036227200697,\n",
       "    251.667272568214,\n",
       "    249.841999724903,\n",
       "    248.016726881592,\n",
       "    245.735135827453,\n",
       "    242.312749246245,\n",
       "    238.434044454209,\n",
       "    234.099021451345,\n",
       "    229.307680237653,\n",
       "    225.648393400455,\n",
       "    221.541529503005,\n",
       "    214.012279024347,\n",
       "    204.20143749155,\n",
       "    191.880845799201,\n",
       "    177.050503947299,\n",
       "    160.166730146672,\n",
       "    141.685842608147,\n",
       "    100.539733415,\n",
       "    100.086574309586,\n",
       "    99.1739378879305,\n",
       "    97.3164082469201,\n",
       "    97.0914082469201,\n",
       "    96.8632491415062,\n",
       "    96.6350900360923,\n",
       "    96.0669868932757,\n",
       "    95.8419868932757,\n",
       "    95.3856686824479,\n",
       "    94.9293504716201,\n",
       "    94.2448731553784,\n",
       "    93.1040776283089,\n",
       "    89.6816910471005,\n",
       "    83.9777134117532,\n",
       "    74.8513491951974,\n",
       "    61.2476689369033,\n",
       "    57.9066005665227,\n",
       "    49.6928727716225,\n",
       "    13.9713107293,\n",
       "    13.4113003846872,\n",
       "    12.9462848677681,\n",
       "    12.5712848677681,\n",
       "    8.85419502058529,\n",
       "    4.74733112313521,\n",
       "    0.0],\n",
       "   'stage': '',\n",
       "   'He_Apatite': {'modeled_age': 15.2502212524414,\n",
       "    'modeled_age_GOF': 0.380887360078412},\n",
       "   'time_con': [],\n",
       "   'temp': [601.869627043968,\n",
       "    601.843577243404,\n",
       "    601.321130040702,\n",
       "    599.889234545777,\n",
       "    598.718682968008,\n",
       "    597.252569518212,\n",
       "    593.432128965252,\n",
       "    588.01701928629,\n",
       "    581.870254035615,\n",
       "    575.21094809626,\n",
       "    568.18426867256,\n",
       "    551.805159738804,\n",
       "    534.143929773611,\n",
       "    500.079248153771,\n",
       "    481.455691801706,\n",
       "    465.667019947037,\n",
       "    452.129133508708,\n",
       "    440.355827855785,\n",
       "    429.999025351996,\n",
       "    420.770821489982,\n",
       "    412.473601428412,\n",
       "    404.943461666476,\n",
       "    398.059862197624,\n",
       "    391.723849654037,\n",
       "    385.857746654045,\n",
       "    380.397943619493,\n",
       "    370.497409702282,\n",
       "    361.70100634233,\n",
       "    350.883024095764,\n",
       "    341.758571973053,\n",
       "    335.540245909177,\n",
       "    324.453904403439,\n",
       "    314.725362424393,\n",
       "    306.004037746728,\n",
       "    296.170730122751,\n",
       "    285.545598673709,\n",
       "    275.875637635216,\n",
       "    265.492450222482,\n",
       "    256.901506799253,\n",
       "    249.632224852006,\n",
       "    241.754842981493,\n",
       "    235.510599509459,\n",
       "    231.919274089717,\n",
       "    227.483119300866,\n",
       "    222.357925091406,\n",
       "    217.764325656699,\n",
       "    212.525428025629,\n",
       "    205.398218835274,\n",
       "    198.056982854671,\n",
       "    190.491120184411,\n",
       "    182.680251213374,\n",
       "    177.133273364667,\n",
       "    173.992959114882,\n",
       "    170.060577839449,\n",
       "    166.07052236559,\n",
       "    161.922178764713,\n",
       "    157.637676352503,\n",
       "    153.354088971912,\n",
       "    149.184475635342,\n",
       "    141.323545297261,\n",
       "    140.84623027392,\n",
       "    139.109800425702,\n",
       "    134.361251963564,\n",
       "    132.903635529705,\n",
       "    130.737508603711,\n",
       "    128.181267867927,\n",
       "    120.9049265465,\n",
       "    119.052185196291,\n",
       "    116.859505230346,\n",
       "    115.398073297406,\n",
       "    113.781123614226,\n",
       "    111.768658502866,\n",
       "    107.423741068783,\n",
       "    101.67804919127,\n",
       "    93.4103156228045,\n",
       "    81.6455760284254,\n",
       "    80.5219392251804,\n",
       "    78.8043542476596,\n",
       "    73.0623372334475,\n",
       "    72.3982911294288,\n",
       "    71.7315280737328,\n",
       "    70.4841178089565,\n",
       "    51.6137098432725,\n",
       "    28.9390291644885,\n",
       "    1.175],\n",
       "   'comp_GOF': 0.772623330354691,\n",
       "   'temp_con': []}},\n",
       " 'AN03': {'temp': {'time': [275.7659626,\n",
       "    274.9648687,\n",
       "    274.8034143,\n",
       "    274.695778,\n",
       "    274.6419599,\n",
       "    274.5881417,\n",
       "    274.4805055,\n",
       "    274.3728692,\n",
       "    274.2652329,\n",
       "    274.1575966,\n",
       "    274.0499603,\n",
       "    273.8346878,\n",
       "    273.6268458,\n",
       "    273.2518458,\n",
       "    273.0236867,\n",
       "    272.7955276,\n",
       "    272.5673685,\n",
       "    272.3392094,\n",
       "    272.1110503,\n",
       "    271.8828912,\n",
       "    271.6547321,\n",
       "    271.426573,\n",
       "    271.1984139,\n",
       "    270.9702548,\n",
       "    270.7420957,\n",
       "    270.5139366,\n",
       "    270.0576184,\n",
       "    269.6013002,\n",
       "    268.9681177,\n",
       "    268.3649586,\n",
       "    267.9086404,\n",
       "    266.9960039,\n",
       "    266.0833675,\n",
       "    265.1707311,\n",
       "    264.0299356,\n",
       "    262.6609809,\n",
       "    261.2920263,\n",
       "    259.6949126,\n",
       "    258.2470456,\n",
       "    256.8780909,\n",
       "    255.2809772,\n",
       "    253.9457045,\n",
       "    253.0362272,\n",
       "    251.6672726,\n",
       "    249.8419997,\n",
       "    248.0167269,\n",
       "    245.7351358,\n",
       "    242.3127492,\n",
       "    238.4340445,\n",
       "    234.0990215,\n",
       "    229.3076802,\n",
       "    225.6483934,\n",
       "    221.5415295,\n",
       "    214.012279,\n",
       "    204.2014375,\n",
       "    191.8808458,\n",
       "    177.0505039,\n",
       "    160.1667301,\n",
       "    141.6858426,\n",
       "    100.5397334,\n",
       "    100.0865743,\n",
       "    99.17393789,\n",
       "    97.31640825,\n",
       "    97.09140825,\n",
       "    96.86324914,\n",
       "    96.63509004,\n",
       "    96.06698689,\n",
       "    95.84198689,\n",
       "    95.38566868,\n",
       "    94.92935047,\n",
       "    94.24487316,\n",
       "    93.10407763,\n",
       "    89.68169105,\n",
       "    83.97771341,\n",
       "    74.8513492,\n",
       "    61.24766894,\n",
       "    57.90660057,\n",
       "    49.69287277,\n",
       "    13.97131073,\n",
       "    13.41130038,\n",
       "    12.94628487,\n",
       "    12.57128487,\n",
       "    8.854195021,\n",
       "    4.747331123,\n",
       "    0.0],\n",
       "   'stage': '',\n",
       "   'He_Apatite': {'modeled_age': 15.25022125, 'modeled_age_GOF': 0.38088736},\n",
       "   'time_con': [],\n",
       "   'temp': [596.2281471,\n",
       "    596.1932007,\n",
       "    595.5684026,\n",
       "    593.9550595,\n",
       "    592.6702712,\n",
       "    591.0554557,\n",
       "    586.3216294,\n",
       "    580.5895876,\n",
       "    574.1687979,\n",
       "    567.2714879,\n",
       "    559.9784103,\n",
       "    542.0658613,\n",
       "    524.1141594,\n",
       "    488.8549106,\n",
       "    469.9246715,\n",
       "    454.056245,\n",
       "    440.5233368,\n",
       "    428.8028542,\n",
       "    418.5223369,\n",
       "    409.3804038,\n",
       "    401.1745451,\n",
       "    393.7358337,\n",
       "    386.929887,\n",
       "    380.6346633,\n",
       "    374.8128104,\n",
       "    369.398928,\n",
       "    359.591518,\n",
       "    350.8859801,\n",
       "    340.2117692,\n",
       "    331.259476,\n",
       "    325.1603988,\n",
       "    314.2810519,\n",
       "    304.7251881,\n",
       "    296.1499482,\n",
       "    286.4702371,\n",
       "    275.9967793,\n",
       "    266.4514057,\n",
       "    256.1876135,\n",
       "    247.6979934,\n",
       "    240.4927843,\n",
       "    232.6651493,\n",
       "    226.4780827,\n",
       "    222.9711313,\n",
       "    218.6459649,\n",
       "    213.6407867,\n",
       "    209.1468665,\n",
       "    204.012964,\n",
       "    197.0146225,\n",
       "    189.7906208,\n",
       "    182.3308677,\n",
       "    174.6159296,\n",
       "    169.1433853,\n",
       "    166.1460576,\n",
       "    162.3937045,\n",
       "    158.5803481,\n",
       "    154.6095463,\n",
       "    150.5025257,\n",
       "    146.3909215,\n",
       "    142.3834366,\n",
       "    134.8056314,\n",
       "    134.286486,\n",
       "    132.4666194,\n",
       "    127.5798776,\n",
       "    125.9960129,\n",
       "    123.7025243,\n",
       "    121.0342161,\n",
       "    113.536153,\n",
       "    111.7366531,\n",
       "    109.6409782,\n",
       "    108.2462177,\n",
       "    106.6981303,\n",
       "    104.7579456,\n",
       "    100.5203677,\n",
       "    94.84898972,\n",
       "    86.62767956,\n",
       "    74.91282881,\n",
       "    73.86219691,\n",
       "    72.23231813,\n",
       "    66.70636497,\n",
       "    66.33612267,\n",
       "    65.92046506,\n",
       "    64.80289456,\n",
       "    47.82776296,\n",
       "    27.5511905,\n",
       "    2.75],\n",
       "   'comp_GOF': 0.77262333,\n",
       "   'temp_con': []},\n",
       "  'depth': {'time': [275.7659626,\n",
       "    275.150542,\n",
       "    275.072505,\n",
       "    273.6268458,\n",
       "    268.9681177,\n",
       "    259.3065229,\n",
       "    254.0957045,\n",
       "    226.2515525,\n",
       "    100.6897334,\n",
       "    97.46640825,\n",
       "    96.21698689,\n",
       "    61.24766894,\n",
       "    13.97131073,\n",
       "    12.94628487,\n",
       "    11.52808817,\n",
       "    11.28262697,\n",
       "    0.0],\n",
       "   'stage': '',\n",
       "   'He_Apatite': {'modeled_age': 15.25022125, 'modeled_age_GOF': 0.38088736},\n",
       "   'time_con': [275.7659626, 268.9681177, 100.6897334, 13.97131073, 0.0],\n",
       "   'depth': [29.67390802,\n",
       "    21.19355594,\n",
       "    15.78314755,\n",
       "    10.41076144,\n",
       "    9.604166165,\n",
       "    8.172119381,\n",
       "    7.549111003,\n",
       "    6.261754984,\n",
       "    5.88947616,\n",
       "    5.403253941,\n",
       "    4.382773266,\n",
       "    3.1308573,\n",
       "    2.90919385,\n",
       "    2.856558232,\n",
       "    2.493547954,\n",
       "    2.438226134,\n",
       "    0.0],\n",
       "   'comp_GOF': 0.77262333,\n",
       "   'depth_con': [29.67390802, 9.604166165, 5.88947616, 2.90919385, 0.0]}},\n",
       " 'AN04': {'temp': {'time': [275.7659626,\n",
       "    274.9648687,\n",
       "    274.8034143,\n",
       "    274.695778,\n",
       "    274.6419599,\n",
       "    274.5881417,\n",
       "    274.4805055,\n",
       "    274.3728692,\n",
       "    274.2652329,\n",
       "    274.1575966,\n",
       "    274.0499603,\n",
       "    273.8346878,\n",
       "    273.6268458,\n",
       "    273.2518458,\n",
       "    273.0236867,\n",
       "    272.7955276,\n",
       "    272.5673685,\n",
       "    272.3392094,\n",
       "    272.1110503,\n",
       "    271.8828912,\n",
       "    271.6547321,\n",
       "    271.426573,\n",
       "    271.1984139,\n",
       "    270.9702548,\n",
       "    270.7420957,\n",
       "    270.5139366,\n",
       "    270.0576184,\n",
       "    269.6013002,\n",
       "    268.9681177,\n",
       "    268.3649586,\n",
       "    267.9086404,\n",
       "    266.9960039,\n",
       "    266.0833675,\n",
       "    265.1707311,\n",
       "    264.0299356,\n",
       "    262.6609809,\n",
       "    261.2920263,\n",
       "    259.6949126,\n",
       "    258.2470456,\n",
       "    256.8780909,\n",
       "    255.2809772,\n",
       "    253.9457045,\n",
       "    253.0362272,\n",
       "    251.6672726,\n",
       "    249.8419997,\n",
       "    248.0167269,\n",
       "    245.7351358,\n",
       "    242.3127492,\n",
       "    238.4340445,\n",
       "    234.0990215,\n",
       "    229.3076802,\n",
       "    225.6483934,\n",
       "    221.5415295,\n",
       "    214.012279,\n",
       "    204.2014375,\n",
       "    191.8808458,\n",
       "    177.0505039,\n",
       "    160.1667301,\n",
       "    141.6858426,\n",
       "    100.5397334,\n",
       "    100.0865743,\n",
       "    99.17393789,\n",
       "    97.31640825,\n",
       "    97.09140825,\n",
       "    96.86324914,\n",
       "    96.63509004,\n",
       "    96.06698689,\n",
       "    95.84198689,\n",
       "    95.38566868,\n",
       "    94.92935047,\n",
       "    94.24487316,\n",
       "    93.10407763,\n",
       "    89.68169105,\n",
       "    83.97771341,\n",
       "    74.8513492,\n",
       "    61.24766894,\n",
       "    57.90660057,\n",
       "    49.69287277,\n",
       "    13.97131073,\n",
       "    13.41130038,\n",
       "    12.94628487,\n",
       "    12.57128487,\n",
       "    8.854195021,\n",
       "    4.747331123,\n",
       "    0.0],\n",
       "   'stage': '',\n",
       "   'He_Zircon': {'modeled_age': 15.25022125, 'modeled_age_GOF': 0.38088736},\n",
       "   'time_con': [],\n",
       "   'temp': [602.5754711,\n",
       "    602.5509017,\n",
       "    602.045486,\n",
       "    600.6437839,\n",
       "    599.4922417,\n",
       "    598.0463851,\n",
       "    594.3747289,\n",
       "    589.0200511,\n",
       "    582.9188843,\n",
       "    576.299183,\n",
       "    569.3072687,\n",
       "    553.1928932,\n",
       "    535.5799986,\n",
       "    501.7140966,\n",
       "    483.1415731,\n",
       "    467.3661727,\n",
       "    453.8274579,\n",
       "    442.0453623,\n",
       "    431.6758657,\n",
       "    422.4333061,\n",
       "    414.1208833,\n",
       "    406.5755295,\n",
       "    399.6769038,\n",
       "    393.3263307,\n",
       "    387.4461885,\n",
       "    381.9729357,\n",
       "    372.0472891,\n",
       "    363.2280771,\n",
       "    352.4075203,\n",
       "    343.272738,\n",
       "    337.0345686,\n",
       "    325.9137825,\n",
       "    316.1565064,\n",
       "    307.4108727,\n",
       "    297.5520062,\n",
       "    286.9016358,\n",
       "    277.210943,\n",
       "    266.8078879,\n",
       "    258.200084,\n",
       "    250.9155776,\n",
       "    243.0232594,\n",
       "    236.7807223,\n",
       "    233.1753568,\n",
       "    228.7207332,\n",
       "    223.575568,\n",
       "    218.9653816,\n",
       "    213.7090125,\n",
       "    206.5603593,\n",
       "    199.1996152,\n",
       "    191.6160956,\n",
       "    183.7892634,\n",
       "    178.2298996,\n",
       "    175.065792,\n",
       "    171.1034535,\n",
       "    167.0839947,\n",
       "    162.9061076,\n",
       "    158.5920717,\n",
       "    154.2798658,\n",
       "    150.0832738,\n",
       "    142.1747786,\n",
       "    141.7024992,\n",
       "    139.9766579,\n",
       "    135.2567779,\n",
       "    133.8201695,\n",
       "    131.675236,\n",
       "    129.1376436,\n",
       "    121.8981975,\n",
       "    120.0365966,\n",
       "    117.8277747,\n",
       "    116.3552484,\n",
       "    114.7268398,\n",
       "    112.702347,\n",
       "    108.339568,\n",
       "    102.5811152,\n",
       "    94.30449364,\n",
       "    82.53301024,\n",
       "    81.3972252,\n",
       "    79.66504565,\n",
       "    73.88707496,\n",
       "    73.17392963,\n",
       "    72.4652088,\n",
       "    71.1960493,\n",
       "    52.0059328,\n",
       "    28.93491894,\n",
       "    0.68],\n",
       "   'comp_GOF': 0.77262333,\n",
       "   'temp_con': []}},\n",
       " 'AN05': {'temp': {'time': [275.765962567119,\n",
       "    274.96486872049,\n",
       "    274.803414297918,\n",
       "    274.695778016203,\n",
       "    274.641959875345,\n",
       "    274.588141734488,\n",
       "    274.480505452773,\n",
       "    274.372869171058,\n",
       "    274.265232889343,\n",
       "    274.157596607628,\n",
       "    274.049960325913,\n",
       "    273.834687762483,\n",
       "    273.626845838437,\n",
       "    273.251845838437,\n",
       "    273.023686733023,\n",
       "    272.795527627609,\n",
       "    272.567368522195,\n",
       "    272.339209416781,\n",
       "    272.111050311367,\n",
       "    271.882891205953,\n",
       "    271.654732100539,\n",
       "    271.426572995125,\n",
       "    271.198413889712,\n",
       "    270.970254784298,\n",
       "    270.742095678884,\n",
       "    270.51393657347,\n",
       "    270.057618362642,\n",
       "    269.601300151814,\n",
       "    268.968117675,\n",
       "    268.364958569586,\n",
       "    267.908640358758,\n",
       "    266.996003937103,\n",
       "    266.083367515447,\n",
       "    265.170731093791,\n",
       "    264.029935566722,\n",
       "    262.660980934238,\n",
       "    261.292026301755,\n",
       "    259.694912563858,\n",
       "    258.247045560008,\n",
       "    256.878090927524,\n",
       "    255.280977189627,\n",
       "    253.945704516939,\n",
       "    253.036227200697,\n",
       "    251.667272568214,\n",
       "    249.841999724903,\n",
       "    248.016726881592,\n",
       "    245.735135827453,\n",
       "    242.312749246245,\n",
       "    238.434044454209,\n",
       "    234.099021451345,\n",
       "    229.307680237653,\n",
       "    225.648393400455,\n",
       "    221.541529503005,\n",
       "    214.012279024347,\n",
       "    204.20143749155,\n",
       "    191.880845799201,\n",
       "    177.050503947299,\n",
       "    160.166730146672,\n",
       "    141.685842608147,\n",
       "    100.539733415,\n",
       "    100.086574309586,\n",
       "    99.1739378879305,\n",
       "    97.3164082469201,\n",
       "    97.0914082469201,\n",
       "    96.8632491415062,\n",
       "    96.6350900360923,\n",
       "    96.0669868932757,\n",
       "    95.8419868932757,\n",
       "    95.3856686824479,\n",
       "    94.9293504716201,\n",
       "    94.2448731553784,\n",
       "    93.1040776283089,\n",
       "    89.6816910471005,\n",
       "    83.9777134117532,\n",
       "    74.8513491951974,\n",
       "    61.2476689369033,\n",
       "    57.9066005665227,\n",
       "    49.6928727716225,\n",
       "    13.9713107293,\n",
       "    13.4113003846872,\n",
       "    12.9462848677681,\n",
       "    12.5712848677681,\n",
       "    8.85419502058529,\n",
       "    4.74733112313521,\n",
       "    0.0],\n",
       "   'stage': '',\n",
       "   'He_Apatite': {'modeled_age': 15.2502212524414,\n",
       "    'modeled_age_GOF': 0.380887360078412},\n",
       "   'He_Zircon': {'modeled_age': 12.0349464416504,\n",
       "    'modeled_age_GOF': 0.212560607456672},\n",
       "   'time_con': [],\n",
       "   'temp': [598.350173406605,\n",
       "    598.318829310404,\n",
       "    597.735474097112,\n",
       "    596.195601036043,\n",
       "    594.95706829664,\n",
       "    593.418512511392,\n",
       "    589.038476703869,\n",
       "    583.434763943653,\n",
       "    577.124929534252,\n",
       "    570.323989800867,\n",
       "    563.172983625155,\n",
       "    545.847136041858,\n",
       "    528.013049172343,\n",
       "    493.237492840182,\n",
       "    474.431432688575,\n",
       "    458.595299686997,\n",
       "    445.060375699898,\n",
       "    433.318504508814,\n",
       "    423.007098572765,\n",
       "    413.830233569723,\n",
       "    405.587381719341,\n",
       "    398.11165005644,\n",
       "    391.28178751703,\n",
       "    384.997846338519,\n",
       "    379.181950258911,\n",
       "    373.770246308761,\n",
       "    363.902850613954,\n",
       "    355.127992288617,\n",
       "    344.370402636511,\n",
       "    335.348400531094,\n",
       "    329.201038220259,\n",
       "    318.237877084072,\n",
       "    308.612094173048,\n",
       "    299.977703061486,\n",
       "    290.235799160057,\n",
       "    279.70092712419,\n",
       "    270.105106817097,\n",
       "    259.792970248268,\n",
       "    251.262323304714,\n",
       "    244.047486983282,\n",
       "    236.187953451273,\n",
       "    229.97317435236,\n",
       "    226.432059057606,\n",
       "    222.061952342301,\n",
       "    217.008178413878,\n",
       "    212.473897112791,\n",
       "    207.297480996772,\n",
       "    200.246959669284,\n",
       "    192.975488571695,\n",
       "    185.472770641155,\n",
       "    177.718989150921,\n",
       "    172.21630595752,\n",
       "    169.161081556651,\n",
       "    165.335833219692,\n",
       "    161.450929578139,\n",
       "    157.408239279739,\n",
       "    153.229354466376,\n",
       "    149.048112507793,\n",
       "    144.974980153743,\n",
       "    137.284151091474,\n",
       "    136.784899906336,\n",
       "    134.995125736391,\n",
       "    130.163458768929,\n",
       "    128.630713285536,\n",
       "    126.388794712019,\n",
       "    123.76586374217,\n",
       "    116.357578090133,\n",
       "    114.536520159349,\n",
       "    112.401566890946,\n",
       "    110.979810455329,\n",
       "    109.40384002995,\n",
       "    107.434388269664,\n",
       "    103.15334751698,\n",
       "    97.4532910693109,\n",
       "    89.2117715824887,\n",
       "    77.4767203323017,\n",
       "    76.3965280012419,\n",
       "    74.7311360892961,\n",
       "    69.1176964706046,\n",
       "    68.628344146074,\n",
       "    68.1108908103762,\n",
       "    66.9406468888893,\n",
       "    49.2083206608314,\n",
       "    27.9493863070458,\n",
       "    1.95],\n",
       "   'comp_GOF': 0.772623330354691,\n",
       "   'temp_con': []}}}"
      ]
     },
     "execution_count": 8,
     "metadata": {},
     "output_type": "execute_result"
    }
   ],
   "source": [
    "multisample_model.best_paths"
   ]
  },
  {
   "cell_type": "code",
   "execution_count": 13,
   "id": "5c607141-fa71-4d47-9022-a97d22dc6bac",
   "metadata": {},
   "outputs": [
    {
     "data": {
      "text/plain": [
       "{'time': [275.7659626,\n",
       "  275.150542,\n",
       "  275.072505,\n",
       "  273.6268458,\n",
       "  268.9681177,\n",
       "  259.3065229,\n",
       "  254.0957045,\n",
       "  226.2515525,\n",
       "  100.6897334,\n",
       "  97.46640825,\n",
       "  96.21698689,\n",
       "  61.24766894,\n",
       "  13.97131073,\n",
       "  12.94628487,\n",
       "  11.52808817,\n",
       "  11.28262697,\n",
       "  0.0],\n",
       " 'stage': '',\n",
       " 'He_Apatite': {'modeled_age': 15.25022125, 'modeled_age_GOF': 0.38088736},\n",
       " 'time_con': [275.7659626, 268.9681177, 100.6897334, 13.97131073, 0.0],\n",
       " 'depth': [29.67390802,\n",
       "  21.19355594,\n",
       "  15.78314755,\n",
       "  10.41076144,\n",
       "  9.604166165,\n",
       "  8.172119381,\n",
       "  7.549111003,\n",
       "  6.261754984,\n",
       "  5.88947616,\n",
       "  5.403253941,\n",
       "  4.382773266,\n",
       "  3.1308573,\n",
       "  2.90919385,\n",
       "  2.856558232,\n",
       "  2.493547954,\n",
       "  2.438226134,\n",
       "  0.0],\n",
       " 'comp_GOF': 0.77262333,\n",
       " 'depth_con': [29.67390802, 9.604166165, 5.88947616, 2.90919385, 0.0]}"
      ]
     },
     "execution_count": 13,
     "metadata": {},
     "output_type": "execute_result"
    }
   ],
   "source": [
    "multisample_model.get_sample_best_path('AN03','depth')"
   ]
  },
  {
   "cell_type": "code",
   "execution_count": null,
   "id": "a51a7bcb-323c-4484-bfe0-69d74d20c6b0",
   "metadata": {},
   "outputs": [],
   "source": []
  },
  {
   "cell_type": "markdown",
   "id": "9b2377d5-b7f6-410f-8b4f-94e2a14492fb",
   "metadata": {},
   "source": [
    "#### Pull one of the samples into its own single sample model "
   ]
  },
  {
   "cell_type": "code",
   "execution_count": null,
   "id": "e6d39c03-3fab-434b-ae8b-9eaf5a13253a",
   "metadata": {},
   "outputs": [],
   "source": [
    "model_data_test = multisample_model.samples['GAN']['temp']"
   ]
  },
  {
   "cell_type": "code",
   "execution_count": null,
   "id": "78aafd7a-fe27-4041-89e2-0975729b07f4",
   "metadata": {},
   "outputs": [],
   "source": [
    "test = multisample_model.get_sample('GAN')"
   ]
  },
  {
   "cell_type": "code",
   "execution_count": null,
   "id": "d4bae753-4449-49f2-8832-7e757d2ccf63",
   "metadata": {},
   "outputs": [],
   "source": []
  },
  {
   "cell_type": "markdown",
   "id": "af961f9e-d7ca-4595-96a7-5567a7ef4a71",
   "metadata": {},
   "source": [
    "### 2. Visualize Multi-Sample Model Data\n",
    "### *Plot Distribution of Modeled Ages for each Sample within the Multi-Sample Model*"
   ]
  },
  {
   "cell_type": "code",
   "execution_count": null,
   "id": "3c3be18d-d7bf-47a5-b8fc-61b1a0b5f39b",
   "metadata": {},
   "outputs": [],
   "source": [
    "# Specify sample and variable from the multi-sample model\n",
    "sample = 'AN03'\n",
    "variable = 'temp'\n",
    "\n",
    "# Specify histogram parameters\n",
    "bins = 20\n",
    "share_x = False\n",
    "\n",
    "whatToPlot = 'both' # 'histogram', 'kde', 'both'\n",
    "\n",
    "# Save Figure \n",
    "saveFig = False\n",
    "saveFolder = 'Plots_testing'\n",
    "savefigFileName = 'CHL15_modeled_ages_histogram'"
   ]
  },
  {
   "cell_type": "code",
   "execution_count": null,
   "id": "8988dd9c-b1c3-4159-91e2-6c1b898939fb",
   "metadata": {},
   "outputs": [],
   "source": [
    "multisample_model.plotMultiSampleModeledAgeHistogram(sample,variable,bins, share_x, whatToPlot, saveFig, saveFolder, savefigFileName)"
   ]
  },
  {
   "cell_type": "markdown",
   "id": "3b9d8fc3-aa4d-4f77-8f3e-37cda9d6eeb1",
   "metadata": {},
   "source": [
    "### *Plot Measured vs. Modeled Ages for each Sample within the Multi-Sample Model*"
   ]
  },
  {
   "cell_type": "code",
   "execution_count": null,
   "id": "50c3e60e-9769-4b6a-a04c-d3299c6af16c",
   "metadata": {},
   "outputs": [],
   "source": [
    "# Specify sample and variable from the multi-sample model\n",
    "sample = 'AN03'\n",
    "variable = 'temp'\n",
    "\n",
    "# Specify measured ages for samples in model - Ages should correspond to above sample list, in order\n",
    "measured_sample_ages = [15.1] \n",
    "\n",
    "pathsToPlot = 'all' # 'good', 'acc', or 'all' – best path will be shown for all options\n",
    "\n",
    "colorPalette = 'Set1' \n",
    "\n",
    "# Specify plot parameters\n",
    "ahe_x_bounds = (10,20)\n",
    "ahe_y_bounds = (0,30)\n",
    "\n",
    "zhe_x_bounds = None\n",
    "zhe_y_bounds = None\n",
    "\n",
    "aft_x_bounds = None\n",
    "aft_y_bounds = None\n",
    "\n",
    "zft_x_bounds = None\n",
    "zft_y_bounds = None\n",
    "\n",
    "show_1v1_line = 'both' # 'line', 'point', 'both' or None\n",
    "\n",
    "# Save Figure \n",
    "saveFig = False\n",
    "saveFolder = 'Plots_testing'\n",
    "savefigFileName = 'CHL15_measured_vs_modeled ages'"
   ]
  },
  {
   "cell_type": "code",
   "execution_count": null,
   "id": "bcf3d8ee-9642-42f1-9879-032515ebfb2d",
   "metadata": {},
   "outputs": [],
   "source": [
    "multisample_model.plotMultiSampleModeled_v_Measured(sample, variable, measured_sample_ages, \n",
    "                                                    ahe_x_bounds, zhe_x_bounds, aft_x_bounds, zft_x_bounds,\n",
    "                                                    ahe_y_bounds, zhe_y_bounds, aft_y_bounds, zft_y_bounds,\n",
    "                                                    show_1v1_line,\n",
    "                                                    saveFig, saveFolder, savefigFileName)"
   ]
  },
  {
   "cell_type": "code",
   "execution_count": null,
   "id": "ebc9d946-8bfc-4ef7-bc9e-652ba5924010",
   "metadata": {},
   "outputs": [],
   "source": []
  },
  {
   "cell_type": "code",
   "execution_count": null,
   "id": "437eb48c-5655-48f6-9133-48596e9b8790",
   "metadata": {},
   "outputs": [],
   "source": []
  },
  {
   "cell_type": "code",
   "execution_count": null,
   "id": "038f50af-bfa4-4a92-bf26-99c8d11fd8a6",
   "metadata": {},
   "outputs": [],
   "source": []
  },
  {
   "cell_type": "code",
   "execution_count": null,
   "id": "b7d73d82-1a1c-4d85-a48d-cc47ec8370aa",
   "metadata": {},
   "outputs": [],
   "source": [
    "model_data_test.sample_grain_list"
   ]
  },
  {
   "cell_type": "code",
   "execution_count": null,
   "id": "4a69edc4-7216-4cb9-ae25-4325c9b6e822",
   "metadata": {},
   "outputs": [],
   "source": [
    "constraints = model_data_test.get_constraints()\n",
    "print(constraints)"
   ]
  },
  {
   "cell_type": "markdown",
   "id": "57dc1d11-c01c-4371-900d-e7ffa52eb382",
   "metadata": {},
   "source": [
    "#### Plots for the subset(?) model "
   ]
  },
  {
   "cell_type": "code",
   "execution_count": null,
   "id": "312a6600-0a7f-4306-9106-6de981124069",
   "metadata": {},
   "outputs": [],
   "source": [
    "# Specify histogram parameters\n",
    "bins = 20\n",
    "share_x = False\n",
    "\n",
    "whatToPlot = 'histogram' # 'histogram', 'kde', 'both'\n",
    "\n",
    "# Save Figure \n",
    "saveFig = True\n",
    "saveFolder = 'Plots_testing'\n",
    "savefigFileName = 'GAN_temp_modeled_ages_histogram'"
   ]
  },
  {
   "cell_type": "code",
   "execution_count": null,
   "id": "6c1dbbd0-3ee6-4f28-a20d-f523dc88658d",
   "metadata": {},
   "outputs": [],
   "source": [
    "model_data_test.plot_modeled_age_histograms(bins, share_x, whatToPlot, saveFig, saveFolder, savefigFileName)"
   ]
  },
  {
   "cell_type": "code",
   "execution_count": null,
   "id": "ebef923d-9833-4f7e-95a6-94d1459ccf7f",
   "metadata": {},
   "outputs": [],
   "source": [
    "## Set sample and plot details -----------------------------\n",
    "sample = 'GAN' \n",
    "\n",
    "plot_type = 'line' # 'line', 'points', or 'envelopes'\n",
    "y_variable = 'temp' # 'temp' or 'depth'\n",
    "\n",
    "which_envelopes = 'both' #'both', 'good', or 'acc'\n",
    "\n",
    "y_lim = (300,0) # (higher bound, lower bound)\n",
    "x_lim = (285,0) # (higher bound, lower bound)\n",
    "\n",
    "## Histogram (optional) ----------------------------- (only for master sample in time-depth space)\n",
    "plotAgeHistogram = False # True or False\n",
    "bin_width = 5\n",
    "histogramColorPalette = 'Dark2'\n",
    "stat = 'count' # 'count', 'frequency', 'probability', 'percent', or 'density'\n",
    "\n",
    "## Customize plot style -----------------------------\n",
    "# default HeFty style is black best path, fuchsia good paths, and green acceptable paths \n",
    "defaultHeftyStyle = True # True or False \n",
    "\n",
    "# the following colors will only apply if defaultHeftyStyle (above) is marked False\n",
    "bestPathColor = 'midnightblue'\n",
    "goodPathColor = 'cornflowerblue'\n",
    "accPathColor = 'lightsteelblue'\n",
    "\n",
    "# Constraint Box Settings\n",
    "showConstraintBoxes = True # True or False\n",
    "constraintBoxColor = 'red'\n",
    "constraintLineColor = 'black'\n",
    "constraintMarkerStyle = 's'\n",
    "\n",
    "## Save Figure -----------------------------\n",
    "saveFig = False\n",
    "saveFolder = 'Plots_testing'\n",
    "savefigFileName = 'GAN_Path_data_test_lines_w_histogram'"
   ]
  },
  {
   "cell_type": "code",
   "execution_count": null,
   "id": "265d8360-95de-4aa9-8fa6-744dd4071e66",
   "metadata": {},
   "outputs": [],
   "source": [
    "model_data_test.plotSingleSamplePathData(sample, plot_type, \n",
    "                            y_variable, which_envelopes, y_lim, x_lim,\n",
    "                            plotAgeHistogram, bin_width, histogramColorPalette, stat,\n",
    "                            defaultHeftyStyle, bestPathColor , goodPathColor , accPathColor ,\n",
    "                            showConstraintBoxes, constraintBoxColor , constraintLineColor , constraintMarkerStyle ,\n",
    "                            saveFig, saveFolder, savefigFileName)"
   ]
  },
  {
   "cell_type": "code",
   "execution_count": null,
   "id": "8865dbd2-2106-4c35-b206-19bf63b154a4",
   "metadata": {},
   "outputs": [],
   "source": []
  },
  {
   "cell_type": "code",
   "execution_count": null,
   "id": "05c4af69-646c-4ece-8cc3-96347a9d2c68",
   "metadata": {},
   "outputs": [],
   "source": []
  },
  {
   "cell_type": "code",
   "execution_count": null,
   "id": "f7587240-b9fa-4e3b-bbbb-290fb253b28f",
   "metadata": {},
   "outputs": [],
   "source": []
  },
  {
   "cell_type": "code",
   "execution_count": null,
   "id": "4d516388-a4ee-4946-b82a-a461b7fa29ca",
   "metadata": {},
   "outputs": [],
   "source": []
  },
  {
   "cell_type": "code",
   "execution_count": null,
   "id": "da85947c-901c-4fb2-93ef-ee7bf2016d3a",
   "metadata": {},
   "outputs": [],
   "source": []
  }
 ],
 "metadata": {
  "kernelspec": {
   "display_name": "Python 3 (ipykernel)",
   "language": "python",
   "name": "python3"
  },
  "language_info": {
   "codemirror_mode": {
    "name": "ipython",
    "version": 3
   },
   "file_extension": ".py",
   "mimetype": "text/x-python",
   "name": "python",
   "nbconvert_exporter": "python",
   "pygments_lexer": "ipython3",
   "version": "3.11.7"
  }
 },
 "nbformat": 4,
 "nbformat_minor": 5
}
